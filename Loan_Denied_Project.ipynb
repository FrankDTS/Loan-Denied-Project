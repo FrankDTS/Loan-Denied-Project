{
 "cells": [
  {
   "cell_type": "code",
   "execution_count": 3,
   "metadata": {},
   "outputs": [],
   "source": [
    "import pandas as pd\n",
    "import numpy as np\n",
    "import matplotlib.pyplot as plt\n",
    "import seaborn as sns\n",
    "%matplotlib inline"
   ]
  },
  {
   "cell_type": "code",
   "execution_count": 4,
   "metadata": {},
   "outputs": [],
   "source": [
    "train = pd.read_csv(\"/Users/huangzijing/Desktop/loan_train.csv\")\n",
    "test = pd.read_csv('/Users/huangzijing/Desktop/loan_test.csv')"
   ]
  },
  {
   "cell_type": "code",
   "execution_count": 5,
   "metadata": {},
   "outputs": [
    {
     "data": {
      "text/html": [
       "<div>\n",
       "<style scoped>\n",
       "    .dataframe tbody tr th:only-of-type {\n",
       "        vertical-align: middle;\n",
       "    }\n",
       "\n",
       "    .dataframe tbody tr th {\n",
       "        vertical-align: top;\n",
       "    }\n",
       "\n",
       "    .dataframe thead th {\n",
       "        text-align: right;\n",
       "    }\n",
       "</style>\n",
       "<table border=\"1\" class=\"dataframe\">\n",
       "  <thead>\n",
       "    <tr style=\"text-align: right;\">\n",
       "      <th></th>\n",
       "      <th>CustomerId</th>\n",
       "      <th>LoanNr_ChkDgt</th>\n",
       "      <th>Name</th>\n",
       "      <th>City</th>\n",
       "      <th>State</th>\n",
       "      <th>Zip</th>\n",
       "      <th>Bank</th>\n",
       "      <th>BankState</th>\n",
       "      <th>NAICS</th>\n",
       "      <th>ApprovalDate</th>\n",
       "      <th>...</th>\n",
       "      <th>DisbursementGross</th>\n",
       "      <th>BalanceGross</th>\n",
       "      <th>GrAppv</th>\n",
       "      <th>SBA_Appv</th>\n",
       "      <th>New</th>\n",
       "      <th>RealEstate</th>\n",
       "      <th>Portion</th>\n",
       "      <th>Recession</th>\n",
       "      <th>daysterm</th>\n",
       "      <th>xx</th>\n",
       "    </tr>\n",
       "  </thead>\n",
       "  <tbody>\n",
       "    <tr>\n",
       "      <th>0</th>\n",
       "      <td>1103</td>\n",
       "      <td>2809706000</td>\n",
       "      <td>ALAN A CASTILLO</td>\n",
       "      <td>PALMDALE</td>\n",
       "      <td>CA</td>\n",
       "      <td>93551</td>\n",
       "      <td>WELLS FARGO BANK NATL ASSOC</td>\n",
       "      <td>SD</td>\n",
       "      <td>531210</td>\n",
       "      <td>17309</td>\n",
       "      <td>...</td>\n",
       "      <td>542200</td>\n",
       "      <td>0</td>\n",
       "      <td>542200</td>\n",
       "      <td>406650</td>\n",
       "      <td>0</td>\n",
       "      <td>1</td>\n",
       "      <td>0.75</td>\n",
       "      <td>0</td>\n",
       "      <td>7770</td>\n",
       "      <td>25087.0</td>\n",
       "    </tr>\n",
       "    <tr>\n",
       "      <th>1</th>\n",
       "      <td>1104</td>\n",
       "      <td>6001574001</td>\n",
       "      <td>KATZAKIAN PROPERTY MANAGEMENT</td>\n",
       "      <td>STOCKTON</td>\n",
       "      <td>CA</td>\n",
       "      <td>95207</td>\n",
       "      <td>CAPITAL ONE NATL ASSOC</td>\n",
       "      <td>VA</td>\n",
       "      <td>531311</td>\n",
       "      <td>15713</td>\n",
       "      <td>...</td>\n",
       "      <td>35000</td>\n",
       "      <td>0</td>\n",
       "      <td>35000</td>\n",
       "      <td>17500</td>\n",
       "      <td>0</td>\n",
       "      <td>0</td>\n",
       "      <td>0.50</td>\n",
       "      <td>0</td>\n",
       "      <td>2520</td>\n",
       "      <td>18315.0</td>\n",
       "    </tr>\n",
       "    <tr>\n",
       "      <th>2</th>\n",
       "      <td>1105</td>\n",
       "      <td>5987883005</td>\n",
       "      <td>SUSIE'S MOTOR HOME RENTALS</td>\n",
       "      <td>NEWHALL</td>\n",
       "      <td>CA</td>\n",
       "      <td>91321</td>\n",
       "      <td>CALIFORNIA BANK &amp; TRUST</td>\n",
       "      <td>CA</td>\n",
       "      <td>532120</td>\n",
       "      <td>12332</td>\n",
       "      <td>...</td>\n",
       "      <td>337600</td>\n",
       "      <td>0</td>\n",
       "      <td>337600</td>\n",
       "      <td>253200</td>\n",
       "      <td>0</td>\n",
       "      <td>1</td>\n",
       "      <td>0.75</td>\n",
       "      <td>0</td>\n",
       "      <td>9000</td>\n",
       "      <td>21357.0</td>\n",
       "    </tr>\n",
       "    <tr>\n",
       "      <th>3</th>\n",
       "      <td>1106</td>\n",
       "      <td>4287575003</td>\n",
       "      <td>Thornton Fashion Designs Inc.</td>\n",
       "      <td>DALY CITY</td>\n",
       "      <td>CA</td>\n",
       "      <td>94014</td>\n",
       "      <td>U.S. BANK NATIONAL ASSOCIATION</td>\n",
       "      <td>OH</td>\n",
       "      <td>531120</td>\n",
       "      <td>18536</td>\n",
       "      <td>...</td>\n",
       "      <td>538000</td>\n",
       "      <td>0</td>\n",
       "      <td>551000</td>\n",
       "      <td>495900</td>\n",
       "      <td>0</td>\n",
       "      <td>1</td>\n",
       "      <td>0.90</td>\n",
       "      <td>0</td>\n",
       "      <td>9000</td>\n",
       "      <td>27567.0</td>\n",
       "    </tr>\n",
       "    <tr>\n",
       "      <th>4</th>\n",
       "      <td>1107</td>\n",
       "      <td>2950195005</td>\n",
       "      <td>RAFAEL REYES SPINDOLA  DBA  Re</td>\n",
       "      <td>SACRAMENTO</td>\n",
       "      <td>CA</td>\n",
       "      <td>95825</td>\n",
       "      <td>CAPITAL ONE NATL ASSOC</td>\n",
       "      <td>VA</td>\n",
       "      <td>531210</td>\n",
       "      <td>17574</td>\n",
       "      <td>...</td>\n",
       "      <td>50000</td>\n",
       "      <td>0</td>\n",
       "      <td>50000</td>\n",
       "      <td>25000</td>\n",
       "      <td>0</td>\n",
       "      <td>0</td>\n",
       "      <td>0.50</td>\n",
       "      <td>0</td>\n",
       "      <td>2160</td>\n",
       "      <td>19782.0</td>\n",
       "    </tr>\n",
       "    <tr>\n",
       "      <th>...</th>\n",
       "      <td>...</td>\n",
       "      <td>...</td>\n",
       "      <td>...</td>\n",
       "      <td>...</td>\n",
       "      <td>...</td>\n",
       "      <td>...</td>\n",
       "      <td>...</td>\n",
       "      <td>...</td>\n",
       "      <td>...</td>\n",
       "      <td>...</td>\n",
       "      <td>...</td>\n",
       "      <td>...</td>\n",
       "      <td>...</td>\n",
       "      <td>...</td>\n",
       "      <td>...</td>\n",
       "      <td>...</td>\n",
       "      <td>...</td>\n",
       "      <td>...</td>\n",
       "      <td>...</td>\n",
       "      <td>...</td>\n",
       "      <td>...</td>\n",
       "    </tr>\n",
       "    <tr>\n",
       "      <th>995</th>\n",
       "      <td>2098</td>\n",
       "      <td>5384074006</td>\n",
       "      <td>ZEPHYR TENTS</td>\n",
       "      <td>SAN FRANCISCO</td>\n",
       "      <td>CA</td>\n",
       "      <td>94122</td>\n",
       "      <td>WELLS FARGO BANK NATL ASSOC</td>\n",
       "      <td>SD</td>\n",
       "      <td>532299</td>\n",
       "      <td>15467</td>\n",
       "      <td>...</td>\n",
       "      <td>28300</td>\n",
       "      <td>0</td>\n",
       "      <td>28300</td>\n",
       "      <td>24055</td>\n",
       "      <td>1</td>\n",
       "      <td>0</td>\n",
       "      <td>0.85</td>\n",
       "      <td>1</td>\n",
       "      <td>2520</td>\n",
       "      <td>18041.0</td>\n",
       "    </tr>\n",
       "    <tr>\n",
       "      <th>996</th>\n",
       "      <td>2099</td>\n",
       "      <td>4545633009</td>\n",
       "      <td>STAGE 1, A GENERAL PARTNERSHIP</td>\n",
       "      <td>ROCKLIN</td>\n",
       "      <td>CA</td>\n",
       "      <td>95677</td>\n",
       "      <td>WESTAMERICA BANK</td>\n",
       "      <td>CA</td>\n",
       "      <td>532230</td>\n",
       "      <td>11540</td>\n",
       "      <td>...</td>\n",
       "      <td>700000</td>\n",
       "      <td>0</td>\n",
       "      <td>700000</td>\n",
       "      <td>595000</td>\n",
       "      <td>0</td>\n",
       "      <td>1</td>\n",
       "      <td>0.85</td>\n",
       "      <td>0</td>\n",
       "      <td>8160</td>\n",
       "      <td>19786.0</td>\n",
       "    </tr>\n",
       "    <tr>\n",
       "      <th>997</th>\n",
       "      <td>2100</td>\n",
       "      <td>2077895008</td>\n",
       "      <td>Crossroads Mortgage</td>\n",
       "      <td>YORBA LINDA</td>\n",
       "      <td>CA</td>\n",
       "      <td>92886</td>\n",
       "      <td>U.S. BANK NATIONAL ASSOCIATION</td>\n",
       "      <td>OH</td>\n",
       "      <td>531390</td>\n",
       "      <td>17093</td>\n",
       "      <td>...</td>\n",
       "      <td>68571</td>\n",
       "      <td>0</td>\n",
       "      <td>30000</td>\n",
       "      <td>15000</td>\n",
       "      <td>0</td>\n",
       "      <td>0</td>\n",
       "      <td>0.50</td>\n",
       "      <td>0</td>\n",
       "      <td>2520</td>\n",
       "      <td>19655.0</td>\n",
       "    </tr>\n",
       "    <tr>\n",
       "      <th>998</th>\n",
       "      <td>2101</td>\n",
       "      <td>2208705009</td>\n",
       "      <td>MARK ADAMS INC. DBA MARK ADAMS</td>\n",
       "      <td>SAN CARLOS</td>\n",
       "      <td>CA</td>\n",
       "      <td>94070</td>\n",
       "      <td>CAPITAL ONE NATL ASSOC</td>\n",
       "      <td>VA</td>\n",
       "      <td>531320</td>\n",
       "      <td>17174</td>\n",
       "      <td>...</td>\n",
       "      <td>15000</td>\n",
       "      <td>0</td>\n",
       "      <td>15000</td>\n",
       "      <td>7500</td>\n",
       "      <td>0</td>\n",
       "      <td>0</td>\n",
       "      <td>0.50</td>\n",
       "      <td>0</td>\n",
       "      <td>2100</td>\n",
       "      <td>19297.0</td>\n",
       "    </tr>\n",
       "    <tr>\n",
       "      <th>999</th>\n",
       "      <td>2102</td>\n",
       "      <td>1048786002</td>\n",
       "      <td>Todd Key &amp; Alan Smiley</td>\n",
       "      <td>RIVERSIDE</td>\n",
       "      <td>CA</td>\n",
       "      <td>92507</td>\n",
       "      <td>CDC SMALL BUS. FINAN CORP</td>\n",
       "      <td>CA</td>\n",
       "      <td>531210</td>\n",
       "      <td>16848</td>\n",
       "      <td>...</td>\n",
       "      <td>79000</td>\n",
       "      <td>0</td>\n",
       "      <td>79000</td>\n",
       "      <td>79000</td>\n",
       "      <td>0</td>\n",
       "      <td>1</td>\n",
       "      <td>1.00</td>\n",
       "      <td>0</td>\n",
       "      <td>7200</td>\n",
       "      <td>24194.0</td>\n",
       "    </tr>\n",
       "  </tbody>\n",
       "</table>\n",
       "<p>1000 rows × 31 columns</p>\n",
       "</div>"
      ],
      "text/plain": [
       "     CustomerId  LoanNr_ChkDgt                            Name           City  \\\n",
       "0          1103     2809706000                 ALAN A CASTILLO       PALMDALE   \n",
       "1          1104     6001574001   KATZAKIAN PROPERTY MANAGEMENT       STOCKTON   \n",
       "2          1105     5987883005      SUSIE'S MOTOR HOME RENTALS        NEWHALL   \n",
       "3          1106     4287575003   Thornton Fashion Designs Inc.      DALY CITY   \n",
       "4          1107     2950195005  RAFAEL REYES SPINDOLA  DBA  Re     SACRAMENTO   \n",
       "..          ...            ...                             ...            ...   \n",
       "995        2098     5384074006                    ZEPHYR TENTS  SAN FRANCISCO   \n",
       "996        2099     4545633009  STAGE 1, A GENERAL PARTNERSHIP        ROCKLIN   \n",
       "997        2100     2077895008             Crossroads Mortgage    YORBA LINDA   \n",
       "998        2101     2208705009  MARK ADAMS INC. DBA MARK ADAMS     SAN CARLOS   \n",
       "999        2102     1048786002          Todd Key & Alan Smiley      RIVERSIDE   \n",
       "\n",
       "    State    Zip                            Bank BankState   NAICS  \\\n",
       "0      CA  93551     WELLS FARGO BANK NATL ASSOC        SD  531210   \n",
       "1      CA  95207          CAPITAL ONE NATL ASSOC        VA  531311   \n",
       "2      CA  91321         CALIFORNIA BANK & TRUST        CA  532120   \n",
       "3      CA  94014  U.S. BANK NATIONAL ASSOCIATION        OH  531120   \n",
       "4      CA  95825          CAPITAL ONE NATL ASSOC        VA  531210   \n",
       "..    ...    ...                             ...       ...     ...   \n",
       "995    CA  94122     WELLS FARGO BANK NATL ASSOC        SD  532299   \n",
       "996    CA  95677                WESTAMERICA BANK        CA  532230   \n",
       "997    CA  92886  U.S. BANK NATIONAL ASSOCIATION        OH  531390   \n",
       "998    CA  94070          CAPITAL ONE NATL ASSOC        VA  531320   \n",
       "999    CA  92507       CDC SMALL BUS. FINAN CORP        CA  531210   \n",
       "\n",
       "     ApprovalDate  ...  DisbursementGross  BalanceGross  GrAppv  SBA_Appv  \\\n",
       "0           17309  ...             542200             0  542200    406650   \n",
       "1           15713  ...              35000             0   35000     17500   \n",
       "2           12332  ...             337600             0  337600    253200   \n",
       "3           18536  ...             538000             0  551000    495900   \n",
       "4           17574  ...              50000             0   50000     25000   \n",
       "..            ...  ...                ...           ...     ...       ...   \n",
       "995         15467  ...              28300             0   28300     24055   \n",
       "996         11540  ...             700000             0  700000    595000   \n",
       "997         17093  ...              68571             0   30000     15000   \n",
       "998         17174  ...              15000             0   15000      7500   \n",
       "999         16848  ...              79000             0   79000     79000   \n",
       "\n",
       "     New  RealEstate  Portion  Recession daysterm       xx  \n",
       "0      0           1     0.75          0     7770  25087.0  \n",
       "1      0           0     0.50          0     2520  18315.0  \n",
       "2      0           1     0.75          0     9000  21357.0  \n",
       "3      0           1     0.90          0     9000  27567.0  \n",
       "4      0           0     0.50          0     2160  19782.0  \n",
       "..   ...         ...      ...        ...      ...      ...  \n",
       "995    1           0     0.85          1     2520  18041.0  \n",
       "996    0           1     0.85          0     8160  19786.0  \n",
       "997    0           0     0.50          0     2520  19655.0  \n",
       "998    0           0     0.50          0     2100  19297.0  \n",
       "999    0           1     1.00          0     7200  24194.0  \n",
       "\n",
       "[1000 rows x 31 columns]"
      ]
     },
     "execution_count": 5,
     "metadata": {},
     "output_type": "execute_result"
    }
   ],
   "source": [
    "test"
   ]
  },
  {
   "cell_type": "code",
   "execution_count": 6,
   "metadata": {},
   "outputs": [
    {
     "data": {
      "text/html": [
       "<div>\n",
       "<style scoped>\n",
       "    .dataframe tbody tr th:only-of-type {\n",
       "        vertical-align: middle;\n",
       "    }\n",
       "\n",
       "    .dataframe tbody tr th {\n",
       "        vertical-align: top;\n",
       "    }\n",
       "\n",
       "    .dataframe thead th {\n",
       "        text-align: right;\n",
       "    }\n",
       "</style>\n",
       "<table border=\"1\" class=\"dataframe\">\n",
       "  <thead>\n",
       "    <tr style=\"text-align: right;\">\n",
       "      <th></th>\n",
       "      <th>MIS_Status</th>\n",
       "      <th>LoanNr_ChkDgt</th>\n",
       "      <th>Name</th>\n",
       "      <th>City</th>\n",
       "      <th>State</th>\n",
       "      <th>Zip</th>\n",
       "      <th>Bank</th>\n",
       "      <th>BankState</th>\n",
       "      <th>NAICS</th>\n",
       "      <th>ApprovalDate</th>\n",
       "      <th>...</th>\n",
       "      <th>BalanceGross</th>\n",
       "      <th>GrAppv</th>\n",
       "      <th>SBA_Appv</th>\n",
       "      <th>New</th>\n",
       "      <th>RealEstate</th>\n",
       "      <th>Portion</th>\n",
       "      <th>Recession</th>\n",
       "      <th>daysterm</th>\n",
       "      <th>xx</th>\n",
       "      <th>CustomerId</th>\n",
       "    </tr>\n",
       "  </thead>\n",
       "  <tbody>\n",
       "    <tr>\n",
       "      <th>0</th>\n",
       "      <td>P I F</td>\n",
       "      <td>1122875008</td>\n",
       "      <td>Patty Schwartzkopf Properties</td>\n",
       "      <td>MAMMOTH LAKES</td>\n",
       "      <td>CA</td>\n",
       "      <td>93546</td>\n",
       "      <td>BANK OF AMERICA NATL ASSOC</td>\n",
       "      <td>NC</td>\n",
       "      <td>531210</td>\n",
       "      <td>16413</td>\n",
       "      <td>...</td>\n",
       "      <td>0</td>\n",
       "      <td>11000</td>\n",
       "      <td>5500</td>\n",
       "      <td>0</td>\n",
       "      <td>0</td>\n",
       "      <td>0.50000</td>\n",
       "      <td>0</td>\n",
       "      <td>2520</td>\n",
       "      <td>19107.0</td>\n",
       "      <td>NaN</td>\n",
       "    </tr>\n",
       "    <tr>\n",
       "      <th>1</th>\n",
       "      <td>P I F</td>\n",
       "      <td>4549584000</td>\n",
       "      <td>HAM DELLES COMPANY INCORPORATE</td>\n",
       "      <td>SANTA ROSA</td>\n",
       "      <td>CA</td>\n",
       "      <td>95401</td>\n",
       "      <td>UMPQUA BANK</td>\n",
       "      <td>OR</td>\n",
       "      <td>531312</td>\n",
       "      <td>15126</td>\n",
       "      <td>...</td>\n",
       "      <td>0</td>\n",
       "      <td>866800</td>\n",
       "      <td>650100</td>\n",
       "      <td>0</td>\n",
       "      <td>1</td>\n",
       "      <td>0.75000</td>\n",
       "      <td>0</td>\n",
       "      <td>9000</td>\n",
       "      <td>24156.0</td>\n",
       "      <td>NaN</td>\n",
       "    </tr>\n",
       "    <tr>\n",
       "      <th>2</th>\n",
       "      <td>P I F</td>\n",
       "      <td>7408914003</td>\n",
       "      <td>MEGA CORPORATION GROUP,A CALIF</td>\n",
       "      <td>WALNUT</td>\n",
       "      <td>CA</td>\n",
       "      <td>91789</td>\n",
       "      <td>BANK OF AMERICA NATL ASSOC</td>\n",
       "      <td>NC</td>\n",
       "      <td>532230</td>\n",
       "      <td>16195</td>\n",
       "      <td>...</td>\n",
       "      <td>0</td>\n",
       "      <td>85000</td>\n",
       "      <td>42500</td>\n",
       "      <td>0</td>\n",
       "      <td>0</td>\n",
       "      <td>0.50000</td>\n",
       "      <td>0</td>\n",
       "      <td>2520</td>\n",
       "      <td>18742.0</td>\n",
       "      <td>NaN</td>\n",
       "    </tr>\n",
       "    <tr>\n",
       "      <th>3</th>\n",
       "      <td>P I F</td>\n",
       "      <td>4579774010</td>\n",
       "      <td>STICKS-N-STONES ENTERPRISES</td>\n",
       "      <td>SAN CARLOS</td>\n",
       "      <td>CA</td>\n",
       "      <td>94070</td>\n",
       "      <td>WACHOVIA SBA LENDING, INC.</td>\n",
       "      <td>CA</td>\n",
       "      <td>531312</td>\n",
       "      <td>15141</td>\n",
       "      <td>...</td>\n",
       "      <td>0</td>\n",
       "      <td>810000</td>\n",
       "      <td>607500</td>\n",
       "      <td>0</td>\n",
       "      <td>1</td>\n",
       "      <td>0.75000</td>\n",
       "      <td>0</td>\n",
       "      <td>9000</td>\n",
       "      <td>24218.0</td>\n",
       "      <td>NaN</td>\n",
       "    </tr>\n",
       "    <tr>\n",
       "      <th>4</th>\n",
       "      <td>P I F</td>\n",
       "      <td>6266254005</td>\n",
       "      <td>PREMIERE PROPERTIES INC</td>\n",
       "      <td>BURLINGAME</td>\n",
       "      <td>CA</td>\n",
       "      <td>94010</td>\n",
       "      <td>U.S. BANK NATIONAL ASSOCIATION</td>\n",
       "      <td>OH</td>\n",
       "      <td>531210</td>\n",
       "      <td>15818</td>\n",
       "      <td>...</td>\n",
       "      <td>0</td>\n",
       "      <td>1056200</td>\n",
       "      <td>766917</td>\n",
       "      <td>0</td>\n",
       "      <td>1</td>\n",
       "      <td>0.72611</td>\n",
       "      <td>0</td>\n",
       "      <td>9000</td>\n",
       "      <td>24917.0</td>\n",
       "      <td>NaN</td>\n",
       "    </tr>\n",
       "    <tr>\n",
       "      <th>...</th>\n",
       "      <td>...</td>\n",
       "      <td>...</td>\n",
       "      <td>...</td>\n",
       "      <td>...</td>\n",
       "      <td>...</td>\n",
       "      <td>...</td>\n",
       "      <td>...</td>\n",
       "      <td>...</td>\n",
       "      <td>...</td>\n",
       "      <td>...</td>\n",
       "      <td>...</td>\n",
       "      <td>...</td>\n",
       "      <td>...</td>\n",
       "      <td>...</td>\n",
       "      <td>...</td>\n",
       "      <td>...</td>\n",
       "      <td>...</td>\n",
       "      <td>...</td>\n",
       "      <td>...</td>\n",
       "      <td>...</td>\n",
       "      <td>...</td>\n",
       "    </tr>\n",
       "    <tr>\n",
       "      <th>2097</th>\n",
       "      <td>NaN</td>\n",
       "      <td>5384074006</td>\n",
       "      <td>ZEPHYR TENTS</td>\n",
       "      <td>SAN FRANCISCO</td>\n",
       "      <td>CA</td>\n",
       "      <td>94122</td>\n",
       "      <td>WELLS FARGO BANK NATL ASSOC</td>\n",
       "      <td>SD</td>\n",
       "      <td>532299</td>\n",
       "      <td>15467</td>\n",
       "      <td>...</td>\n",
       "      <td>0</td>\n",
       "      <td>28300</td>\n",
       "      <td>24055</td>\n",
       "      <td>1</td>\n",
       "      <td>0</td>\n",
       "      <td>0.85000</td>\n",
       "      <td>1</td>\n",
       "      <td>2520</td>\n",
       "      <td>18041.0</td>\n",
       "      <td>2098.0</td>\n",
       "    </tr>\n",
       "    <tr>\n",
       "      <th>2098</th>\n",
       "      <td>NaN</td>\n",
       "      <td>4545633009</td>\n",
       "      <td>STAGE 1, A GENERAL PARTNERSHIP</td>\n",
       "      <td>ROCKLIN</td>\n",
       "      <td>CA</td>\n",
       "      <td>95677</td>\n",
       "      <td>WESTAMERICA BANK</td>\n",
       "      <td>CA</td>\n",
       "      <td>532230</td>\n",
       "      <td>11540</td>\n",
       "      <td>...</td>\n",
       "      <td>0</td>\n",
       "      <td>700000</td>\n",
       "      <td>595000</td>\n",
       "      <td>0</td>\n",
       "      <td>1</td>\n",
       "      <td>0.85000</td>\n",
       "      <td>0</td>\n",
       "      <td>8160</td>\n",
       "      <td>19786.0</td>\n",
       "      <td>2099.0</td>\n",
       "    </tr>\n",
       "    <tr>\n",
       "      <th>2099</th>\n",
       "      <td>NaN</td>\n",
       "      <td>2077895008</td>\n",
       "      <td>Crossroads Mortgage</td>\n",
       "      <td>YORBA LINDA</td>\n",
       "      <td>CA</td>\n",
       "      <td>92886</td>\n",
       "      <td>U.S. BANK NATIONAL ASSOCIATION</td>\n",
       "      <td>OH</td>\n",
       "      <td>531390</td>\n",
       "      <td>17093</td>\n",
       "      <td>...</td>\n",
       "      <td>0</td>\n",
       "      <td>30000</td>\n",
       "      <td>15000</td>\n",
       "      <td>0</td>\n",
       "      <td>0</td>\n",
       "      <td>0.50000</td>\n",
       "      <td>0</td>\n",
       "      <td>2520</td>\n",
       "      <td>19655.0</td>\n",
       "      <td>2100.0</td>\n",
       "    </tr>\n",
       "    <tr>\n",
       "      <th>2100</th>\n",
       "      <td>NaN</td>\n",
       "      <td>2208705009</td>\n",
       "      <td>MARK ADAMS INC. DBA MARK ADAMS</td>\n",
       "      <td>SAN CARLOS</td>\n",
       "      <td>CA</td>\n",
       "      <td>94070</td>\n",
       "      <td>CAPITAL ONE NATL ASSOC</td>\n",
       "      <td>VA</td>\n",
       "      <td>531320</td>\n",
       "      <td>17174</td>\n",
       "      <td>...</td>\n",
       "      <td>0</td>\n",
       "      <td>15000</td>\n",
       "      <td>7500</td>\n",
       "      <td>0</td>\n",
       "      <td>0</td>\n",
       "      <td>0.50000</td>\n",
       "      <td>0</td>\n",
       "      <td>2100</td>\n",
       "      <td>19297.0</td>\n",
       "      <td>2101.0</td>\n",
       "    </tr>\n",
       "    <tr>\n",
       "      <th>2101</th>\n",
       "      <td>NaN</td>\n",
       "      <td>1048786002</td>\n",
       "      <td>Todd Key &amp; Alan Smiley</td>\n",
       "      <td>RIVERSIDE</td>\n",
       "      <td>CA</td>\n",
       "      <td>92507</td>\n",
       "      <td>CDC SMALL BUS. FINAN CORP</td>\n",
       "      <td>CA</td>\n",
       "      <td>531210</td>\n",
       "      <td>16848</td>\n",
       "      <td>...</td>\n",
       "      <td>0</td>\n",
       "      <td>79000</td>\n",
       "      <td>79000</td>\n",
       "      <td>0</td>\n",
       "      <td>1</td>\n",
       "      <td>1.00000</td>\n",
       "      <td>0</td>\n",
       "      <td>7200</td>\n",
       "      <td>24194.0</td>\n",
       "      <td>2102.0</td>\n",
       "    </tr>\n",
       "  </tbody>\n",
       "</table>\n",
       "<p>2102 rows × 32 columns</p>\n",
       "</div>"
      ],
      "text/plain": [
       "     MIS_Status  LoanNr_ChkDgt                            Name           City  \\\n",
       "0         P I F     1122875008   Patty Schwartzkopf Properties  MAMMOTH LAKES   \n",
       "1         P I F     4549584000  HAM DELLES COMPANY INCORPORATE     SANTA ROSA   \n",
       "2         P I F     7408914003  MEGA CORPORATION GROUP,A CALIF         WALNUT   \n",
       "3         P I F     4579774010     STICKS-N-STONES ENTERPRISES     SAN CARLOS   \n",
       "4         P I F     6266254005         PREMIERE PROPERTIES INC     BURLINGAME   \n",
       "...         ...            ...                             ...            ...   \n",
       "2097        NaN     5384074006                    ZEPHYR TENTS  SAN FRANCISCO   \n",
       "2098        NaN     4545633009  STAGE 1, A GENERAL PARTNERSHIP        ROCKLIN   \n",
       "2099        NaN     2077895008             Crossroads Mortgage    YORBA LINDA   \n",
       "2100        NaN     2208705009  MARK ADAMS INC. DBA MARK ADAMS     SAN CARLOS   \n",
       "2101        NaN     1048786002          Todd Key & Alan Smiley      RIVERSIDE   \n",
       "\n",
       "     State    Zip                            Bank BankState   NAICS  \\\n",
       "0       CA  93546      BANK OF AMERICA NATL ASSOC        NC  531210   \n",
       "1       CA  95401                     UMPQUA BANK        OR  531312   \n",
       "2       CA  91789      BANK OF AMERICA NATL ASSOC        NC  532230   \n",
       "3       CA  94070      WACHOVIA SBA LENDING, INC.        CA  531312   \n",
       "4       CA  94010  U.S. BANK NATIONAL ASSOCIATION        OH  531210   \n",
       "...    ...    ...                             ...       ...     ...   \n",
       "2097    CA  94122     WELLS FARGO BANK NATL ASSOC        SD  532299   \n",
       "2098    CA  95677                WESTAMERICA BANK        CA  532230   \n",
       "2099    CA  92886  U.S. BANK NATIONAL ASSOCIATION        OH  531390   \n",
       "2100    CA  94070          CAPITAL ONE NATL ASSOC        VA  531320   \n",
       "2101    CA  92507       CDC SMALL BUS. FINAN CORP        CA  531210   \n",
       "\n",
       "      ApprovalDate  ...  BalanceGross   GrAppv  SBA_Appv  New  RealEstate  \\\n",
       "0            16413  ...             0    11000      5500    0           0   \n",
       "1            15126  ...             0   866800    650100    0           1   \n",
       "2            16195  ...             0    85000     42500    0           0   \n",
       "3            15141  ...             0   810000    607500    0           1   \n",
       "4            15818  ...             0  1056200    766917    0           1   \n",
       "...            ...  ...           ...      ...       ...  ...         ...   \n",
       "2097         15467  ...             0    28300     24055    1           0   \n",
       "2098         11540  ...             0   700000    595000    0           1   \n",
       "2099         17093  ...             0    30000     15000    0           0   \n",
       "2100         17174  ...             0    15000      7500    0           0   \n",
       "2101         16848  ...             0    79000     79000    0           1   \n",
       "\n",
       "      Portion  Recession  daysterm       xx CustomerId  \n",
       "0     0.50000          0      2520  19107.0        NaN  \n",
       "1     0.75000          0      9000  24156.0        NaN  \n",
       "2     0.50000          0      2520  18742.0        NaN  \n",
       "3     0.75000          0      9000  24218.0        NaN  \n",
       "4     0.72611          0      9000  24917.0        NaN  \n",
       "...       ...        ...       ...      ...        ...  \n",
       "2097  0.85000          1      2520  18041.0     2098.0  \n",
       "2098  0.85000          0      8160  19786.0     2099.0  \n",
       "2099  0.50000          0      2520  19655.0     2100.0  \n",
       "2100  0.50000          0      2100  19297.0     2101.0  \n",
       "2101  1.00000          0      7200  24194.0     2102.0  \n",
       "\n",
       "[2102 rows x 32 columns]"
      ]
     },
     "execution_count": 6,
     "metadata": {},
     "output_type": "execute_result"
    }
   ],
   "source": [
    "data = train.append(test)\n",
    "data.reset_index(inplace = True, drop = True)\n",
    "data"
   ]
  },
  {
   "cell_type": "code",
   "execution_count": 7,
   "metadata": {},
   "outputs": [
    {
     "data": {
      "text/html": [
       "<div>\n",
       "<style scoped>\n",
       "    .dataframe tbody tr th:only-of-type {\n",
       "        vertical-align: middle;\n",
       "    }\n",
       "\n",
       "    .dataframe tbody tr th {\n",
       "        vertical-align: top;\n",
       "    }\n",
       "\n",
       "    .dataframe thead th {\n",
       "        text-align: right;\n",
       "    }\n",
       "</style>\n",
       "<table border=\"1\" class=\"dataframe\">\n",
       "  <thead>\n",
       "    <tr style=\"text-align: right;\">\n",
       "      <th></th>\n",
       "      <th>LoanNr_ChkDgt</th>\n",
       "      <th>Zip</th>\n",
       "      <th>NAICS</th>\n",
       "      <th>ApprovalDate</th>\n",
       "      <th>ApprovalFY</th>\n",
       "      <th>Term</th>\n",
       "      <th>NoEmp</th>\n",
       "      <th>NewExist</th>\n",
       "      <th>CreateJob</th>\n",
       "      <th>RetainedJob</th>\n",
       "      <th>...</th>\n",
       "      <th>BalanceGross</th>\n",
       "      <th>GrAppv</th>\n",
       "      <th>SBA_Appv</th>\n",
       "      <th>New</th>\n",
       "      <th>RealEstate</th>\n",
       "      <th>Portion</th>\n",
       "      <th>Recession</th>\n",
       "      <th>daysterm</th>\n",
       "      <th>xx</th>\n",
       "      <th>CustomerId</th>\n",
       "    </tr>\n",
       "  </thead>\n",
       "  <tbody>\n",
       "    <tr>\n",
       "      <th>count</th>\n",
       "      <td>2.102000e+03</td>\n",
       "      <td>2102.000000</td>\n",
       "      <td>2102.000000</td>\n",
       "      <td>2102.000000</td>\n",
       "      <td>2102.000000</td>\n",
       "      <td>2102.000000</td>\n",
       "      <td>2102.000000</td>\n",
       "      <td>2101.000000</td>\n",
       "      <td>2102.000000</td>\n",
       "      <td>2102.000000</td>\n",
       "      <td>...</td>\n",
       "      <td>2102.0</td>\n",
       "      <td>2.102000e+03</td>\n",
       "      <td>2.102000e+03</td>\n",
       "      <td>2102.000000</td>\n",
       "      <td>2102.000000</td>\n",
       "      <td>2102.000000</td>\n",
       "      <td>2102.000000</td>\n",
       "      <td>2102.000000</td>\n",
       "      <td>2099.000000</td>\n",
       "      <td>1000.000000</td>\n",
       "    </tr>\n",
       "    <tr>\n",
       "      <th>mean</th>\n",
       "      <td>4.469172e+09</td>\n",
       "      <td>92698.612274</td>\n",
       "      <td>531630.902950</td>\n",
       "      <td>16179.587060</td>\n",
       "      <td>2004.035680</td>\n",
       "      <td>126.980495</td>\n",
       "      <td>10.150809</td>\n",
       "      <td>1.153736</td>\n",
       "      <td>2.549952</td>\n",
       "      <td>5.803996</td>\n",
       "      <td>...</td>\n",
       "      <td>0.0</td>\n",
       "      <td>2.330641e+05</td>\n",
       "      <td>1.891759e+05</td>\n",
       "      <td>0.154139</td>\n",
       "      <td>0.274500</td>\n",
       "      <td>0.671055</td>\n",
       "      <td>0.068506</td>\n",
       "      <td>3809.414843</td>\n",
       "      <td>20076.896141</td>\n",
       "      <td>1602.500000</td>\n",
       "    </tr>\n",
       "    <tr>\n",
       "      <th>std</th>\n",
       "      <td>2.530069e+09</td>\n",
       "      <td>1878.208435</td>\n",
       "      <td>521.836986</td>\n",
       "      <td>1454.931276</td>\n",
       "      <td>4.006321</td>\n",
       "      <td>93.798944</td>\n",
       "      <td>34.402420</td>\n",
       "      <td>0.362099</td>\n",
       "      <td>8.010175</td>\n",
       "      <td>18.977996</td>\n",
       "      <td>...</td>\n",
       "      <td>0.0</td>\n",
       "      <td>3.436310e+05</td>\n",
       "      <td>2.989268e+05</td>\n",
       "      <td>0.361168</td>\n",
       "      <td>0.446368</td>\n",
       "      <td>0.186519</td>\n",
       "      <td>0.252673</td>\n",
       "      <td>2813.968318</td>\n",
       "      <td>2854.510377</td>\n",
       "      <td>288.819436</td>\n",
       "    </tr>\n",
       "    <tr>\n",
       "      <th>min</th>\n",
       "      <td>1.004285e+09</td>\n",
       "      <td>65757.000000</td>\n",
       "      <td>531110.000000</td>\n",
       "      <td>10554.000000</td>\n",
       "      <td>1989.000000</td>\n",
       "      <td>0.000000</td>\n",
       "      <td>0.000000</td>\n",
       "      <td>0.000000</td>\n",
       "      <td>0.000000</td>\n",
       "      <td>0.000000</td>\n",
       "      <td>...</td>\n",
       "      <td>0.0</td>\n",
       "      <td>4.500000e+03</td>\n",
       "      <td>2.250000e+03</td>\n",
       "      <td>0.000000</td>\n",
       "      <td>0.000000</td>\n",
       "      <td>0.296770</td>\n",
       "      <td>0.000000</td>\n",
       "      <td>0.000000</td>\n",
       "      <td>11524.000000</td>\n",
       "      <td>1103.000000</td>\n",
       "    </tr>\n",
       "    <tr>\n",
       "      <th>25%</th>\n",
       "      <td>2.392978e+09</td>\n",
       "      <td>91402.000000</td>\n",
       "      <td>531210.000000</td>\n",
       "      <td>15695.750000</td>\n",
       "      <td>2003.000000</td>\n",
       "      <td>60.000000</td>\n",
       "      <td>2.000000</td>\n",
       "      <td>1.000000</td>\n",
       "      <td>0.000000</td>\n",
       "      <td>1.000000</td>\n",
       "      <td>...</td>\n",
       "      <td>0.0</td>\n",
       "      <td>3.000000e+04</td>\n",
       "      <td>1.500000e+04</td>\n",
       "      <td>0.000000</td>\n",
       "      <td>0.000000</td>\n",
       "      <td>0.500000</td>\n",
       "      <td>0.000000</td>\n",
       "      <td>1800.000000</td>\n",
       "      <td>18316.500000</td>\n",
       "      <td>1352.750000</td>\n",
       "    </tr>\n",
       "    <tr>\n",
       "      <th>50%</th>\n",
       "      <td>3.621730e+09</td>\n",
       "      <td>92559.500000</td>\n",
       "      <td>531312.000000</td>\n",
       "      <td>16556.000000</td>\n",
       "      <td>2005.000000</td>\n",
       "      <td>84.000000</td>\n",
       "      <td>3.000000</td>\n",
       "      <td>1.000000</td>\n",
       "      <td>0.000000</td>\n",
       "      <td>2.000000</td>\n",
       "      <td>...</td>\n",
       "      <td>0.0</td>\n",
       "      <td>6.100000e+04</td>\n",
       "      <td>4.168000e+04</td>\n",
       "      <td>0.000000</td>\n",
       "      <td>0.000000</td>\n",
       "      <td>0.500000</td>\n",
       "      <td>0.000000</td>\n",
       "      <td>2520.000000</td>\n",
       "      <td>19270.000000</td>\n",
       "      <td>1602.500000</td>\n",
       "    </tr>\n",
       "    <tr>\n",
       "      <th>75%</th>\n",
       "      <td>6.551607e+09</td>\n",
       "      <td>94127.750000</td>\n",
       "      <td>532230.000000</td>\n",
       "      <td>17149.750000</td>\n",
       "      <td>2007.000000</td>\n",
       "      <td>240.000000</td>\n",
       "      <td>8.000000</td>\n",
       "      <td>1.000000</td>\n",
       "      <td>2.000000</td>\n",
       "      <td>5.000000</td>\n",
       "      <td>...</td>\n",
       "      <td>0.0</td>\n",
       "      <td>3.000000e+05</td>\n",
       "      <td>2.397562e+05</td>\n",
       "      <td>0.000000</td>\n",
       "      <td>1.000000</td>\n",
       "      <td>0.850000</td>\n",
       "      <td>0.000000</td>\n",
       "      <td>7200.000000</td>\n",
       "      <td>22335.000000</td>\n",
       "      <td>1852.250000</td>\n",
       "    </tr>\n",
       "    <tr>\n",
       "      <th>max</th>\n",
       "      <td>9.958873e+09</td>\n",
       "      <td>96161.000000</td>\n",
       "      <td>533110.000000</td>\n",
       "      <td>18911.000000</td>\n",
       "      <td>2012.000000</td>\n",
       "      <td>306.000000</td>\n",
       "      <td>650.000000</td>\n",
       "      <td>2.000000</td>\n",
       "      <td>130.000000</td>\n",
       "      <td>535.000000</td>\n",
       "      <td>...</td>\n",
       "      <td>0.0</td>\n",
       "      <td>2.350000e+06</td>\n",
       "      <td>2.115000e+06</td>\n",
       "      <td>1.000000</td>\n",
       "      <td>1.000000</td>\n",
       "      <td>1.000000</td>\n",
       "      <td>1.000000</td>\n",
       "      <td>9180.000000</td>\n",
       "      <td>27598.000000</td>\n",
       "      <td>2102.000000</td>\n",
       "    </tr>\n",
       "  </tbody>\n",
       "</table>\n",
       "<p>8 rows × 24 columns</p>\n",
       "</div>"
      ],
      "text/plain": [
       "       LoanNr_ChkDgt           Zip          NAICS  ApprovalDate   ApprovalFY  \\\n",
       "count   2.102000e+03   2102.000000    2102.000000   2102.000000  2102.000000   \n",
       "mean    4.469172e+09  92698.612274  531630.902950  16179.587060  2004.035680   \n",
       "std     2.530069e+09   1878.208435     521.836986   1454.931276     4.006321   \n",
       "min     1.004285e+09  65757.000000  531110.000000  10554.000000  1989.000000   \n",
       "25%     2.392978e+09  91402.000000  531210.000000  15695.750000  2003.000000   \n",
       "50%     3.621730e+09  92559.500000  531312.000000  16556.000000  2005.000000   \n",
       "75%     6.551607e+09  94127.750000  532230.000000  17149.750000  2007.000000   \n",
       "max     9.958873e+09  96161.000000  533110.000000  18911.000000  2012.000000   \n",
       "\n",
       "              Term        NoEmp     NewExist    CreateJob  RetainedJob  ...  \\\n",
       "count  2102.000000  2102.000000  2101.000000  2102.000000  2102.000000  ...   \n",
       "mean    126.980495    10.150809     1.153736     2.549952     5.803996  ...   \n",
       "std      93.798944    34.402420     0.362099     8.010175    18.977996  ...   \n",
       "min       0.000000     0.000000     0.000000     0.000000     0.000000  ...   \n",
       "25%      60.000000     2.000000     1.000000     0.000000     1.000000  ...   \n",
       "50%      84.000000     3.000000     1.000000     0.000000     2.000000  ...   \n",
       "75%     240.000000     8.000000     1.000000     2.000000     5.000000  ...   \n",
       "max     306.000000   650.000000     2.000000   130.000000   535.000000  ...   \n",
       "\n",
       "       BalanceGross        GrAppv      SBA_Appv          New   RealEstate  \\\n",
       "count        2102.0  2.102000e+03  2.102000e+03  2102.000000  2102.000000   \n",
       "mean            0.0  2.330641e+05  1.891759e+05     0.154139     0.274500   \n",
       "std             0.0  3.436310e+05  2.989268e+05     0.361168     0.446368   \n",
       "min             0.0  4.500000e+03  2.250000e+03     0.000000     0.000000   \n",
       "25%             0.0  3.000000e+04  1.500000e+04     0.000000     0.000000   \n",
       "50%             0.0  6.100000e+04  4.168000e+04     0.000000     0.000000   \n",
       "75%             0.0  3.000000e+05  2.397562e+05     0.000000     1.000000   \n",
       "max             0.0  2.350000e+06  2.115000e+06     1.000000     1.000000   \n",
       "\n",
       "           Portion    Recession     daysterm            xx   CustomerId  \n",
       "count  2102.000000  2102.000000  2102.000000   2099.000000  1000.000000  \n",
       "mean      0.671055     0.068506  3809.414843  20076.896141  1602.500000  \n",
       "std       0.186519     0.252673  2813.968318   2854.510377   288.819436  \n",
       "min       0.296770     0.000000     0.000000  11524.000000  1103.000000  \n",
       "25%       0.500000     0.000000  1800.000000  18316.500000  1352.750000  \n",
       "50%       0.500000     0.000000  2520.000000  19270.000000  1602.500000  \n",
       "75%       0.850000     0.000000  7200.000000  22335.000000  1852.250000  \n",
       "max       1.000000     1.000000  9180.000000  27598.000000  2102.000000  \n",
       "\n",
       "[8 rows x 24 columns]"
      ]
     },
     "execution_count": 7,
     "metadata": {},
     "output_type": "execute_result"
    }
   ],
   "source": [
    "data.describe()"
   ]
  },
  {
   "cell_type": "code",
   "execution_count": 8,
   "metadata": {},
   "outputs": [
    {
     "data": {
      "text/html": [
       "<div>\n",
       "<style scoped>\n",
       "    .dataframe tbody tr th:only-of-type {\n",
       "        vertical-align: middle;\n",
       "    }\n",
       "\n",
       "    .dataframe tbody tr th {\n",
       "        vertical-align: top;\n",
       "    }\n",
       "\n",
       "    .dataframe thead th {\n",
       "        text-align: right;\n",
       "    }\n",
       "</style>\n",
       "<table border=\"1\" class=\"dataframe\">\n",
       "  <thead>\n",
       "    <tr style=\"text-align: right;\">\n",
       "      <th></th>\n",
       "      <th>LoanNr_ChkDgt</th>\n",
       "      <th>Zip</th>\n",
       "      <th>NAICS</th>\n",
       "      <th>ApprovalDate</th>\n",
       "      <th>ApprovalFY</th>\n",
       "      <th>Term</th>\n",
       "      <th>NoEmp</th>\n",
       "      <th>NewExist</th>\n",
       "      <th>CreateJob</th>\n",
       "      <th>RetainedJob</th>\n",
       "      <th>...</th>\n",
       "      <th>BalanceGross</th>\n",
       "      <th>GrAppv</th>\n",
       "      <th>SBA_Appv</th>\n",
       "      <th>New</th>\n",
       "      <th>RealEstate</th>\n",
       "      <th>Portion</th>\n",
       "      <th>Recession</th>\n",
       "      <th>daysterm</th>\n",
       "      <th>xx</th>\n",
       "      <th>CustomerId</th>\n",
       "    </tr>\n",
       "  </thead>\n",
       "  <tbody>\n",
       "    <tr>\n",
       "      <th>LoanNr_ChkDgt</th>\n",
       "      <td>1.000000</td>\n",
       "      <td>-0.020553</td>\n",
       "      <td>0.140983</td>\n",
       "      <td>-0.243970</td>\n",
       "      <td>-0.243239</td>\n",
       "      <td>0.230270</td>\n",
       "      <td>0.091462</td>\n",
       "      <td>-0.076954</td>\n",
       "      <td>0.083110</td>\n",
       "      <td>0.046504</td>\n",
       "      <td>...</td>\n",
       "      <td>NaN</td>\n",
       "      <td>0.201626</td>\n",
       "      <td>0.198880</td>\n",
       "      <td>-0.075942</td>\n",
       "      <td>0.209245</td>\n",
       "      <td>0.235212</td>\n",
       "      <td>-0.034228</td>\n",
       "      <td>0.230270</td>\n",
       "      <td>0.111706</td>\n",
       "      <td>-0.027866</td>\n",
       "    </tr>\n",
       "    <tr>\n",
       "      <th>Zip</th>\n",
       "      <td>-0.020553</td>\n",
       "      <td>1.000000</td>\n",
       "      <td>-0.075342</td>\n",
       "      <td>-0.023806</td>\n",
       "      <td>-0.025069</td>\n",
       "      <td>0.029317</td>\n",
       "      <td>-0.005458</td>\n",
       "      <td>0.035588</td>\n",
       "      <td>-0.005618</td>\n",
       "      <td>-0.038190</td>\n",
       "      <td>...</td>\n",
       "      <td>NaN</td>\n",
       "      <td>-0.001500</td>\n",
       "      <td>0.009207</td>\n",
       "      <td>0.035250</td>\n",
       "      <td>0.020926</td>\n",
       "      <td>0.071921</td>\n",
       "      <td>-0.052743</td>\n",
       "      <td>0.029317</td>\n",
       "      <td>0.015559</td>\n",
       "      <td>-0.025919</td>\n",
       "    </tr>\n",
       "    <tr>\n",
       "      <th>NAICS</th>\n",
       "      <td>0.140983</td>\n",
       "      <td>-0.075342</td>\n",
       "      <td>1.000000</td>\n",
       "      <td>-0.398041</td>\n",
       "      <td>-0.397177</td>\n",
       "      <td>-0.016858</td>\n",
       "      <td>-0.045692</td>\n",
       "      <td>0.033267</td>\n",
       "      <td>-0.082175</td>\n",
       "      <td>-0.033438</td>\n",
       "      <td>...</td>\n",
       "      <td>NaN</td>\n",
       "      <td>0.021199</td>\n",
       "      <td>0.008717</td>\n",
       "      <td>0.032440</td>\n",
       "      <td>-0.081044</td>\n",
       "      <td>0.138437</td>\n",
       "      <td>0.014775</td>\n",
       "      <td>-0.016858</td>\n",
       "      <td>-0.222079</td>\n",
       "      <td>0.002247</td>\n",
       "    </tr>\n",
       "    <tr>\n",
       "      <th>ApprovalDate</th>\n",
       "      <td>-0.243970</td>\n",
       "      <td>-0.023806</td>\n",
       "      <td>-0.398041</td>\n",
       "      <td>1.000000</td>\n",
       "      <td>0.997474</td>\n",
       "      <td>-0.239511</td>\n",
       "      <td>-0.028310</td>\n",
       "      <td>-0.047577</td>\n",
       "      <td>0.041259</td>\n",
       "      <td>0.040597</td>\n",
       "      <td>...</td>\n",
       "      <td>NaN</td>\n",
       "      <td>-0.060314</td>\n",
       "      <td>-0.052000</td>\n",
       "      <td>-0.048168</td>\n",
       "      <td>-0.160077</td>\n",
       "      <td>-0.307422</td>\n",
       "      <td>-0.022127</td>\n",
       "      <td>-0.239511</td>\n",
       "      <td>0.269024</td>\n",
       "      <td>-0.020563</td>\n",
       "    </tr>\n",
       "    <tr>\n",
       "      <th>ApprovalFY</th>\n",
       "      <td>-0.243239</td>\n",
       "      <td>-0.025069</td>\n",
       "      <td>-0.397177</td>\n",
       "      <td>0.997474</td>\n",
       "      <td>1.000000</td>\n",
       "      <td>-0.239094</td>\n",
       "      <td>-0.029424</td>\n",
       "      <td>-0.045840</td>\n",
       "      <td>0.038529</td>\n",
       "      <td>0.040933</td>\n",
       "      <td>...</td>\n",
       "      <td>NaN</td>\n",
       "      <td>-0.063087</td>\n",
       "      <td>-0.054158</td>\n",
       "      <td>-0.046565</td>\n",
       "      <td>-0.159849</td>\n",
       "      <td>-0.307250</td>\n",
       "      <td>-0.020753</td>\n",
       "      <td>-0.239094</td>\n",
       "      <td>0.268003</td>\n",
       "      <td>-0.015186</td>\n",
       "    </tr>\n",
       "    <tr>\n",
       "      <th>Term</th>\n",
       "      <td>0.230270</td>\n",
       "      <td>0.029317</td>\n",
       "      <td>-0.016858</td>\n",
       "      <td>-0.239511</td>\n",
       "      <td>-0.239094</td>\n",
       "      <td>1.000000</td>\n",
       "      <td>0.181704</td>\n",
       "      <td>-0.109986</td>\n",
       "      <td>0.206043</td>\n",
       "      <td>0.101137</td>\n",
       "      <td>...</td>\n",
       "      <td>NaN</td>\n",
       "      <td>0.624273</td>\n",
       "      <td>0.626312</td>\n",
       "      <td>-0.108558</td>\n",
       "      <td>0.939372</td>\n",
       "      <td>0.648748</td>\n",
       "      <td>-0.205548</td>\n",
       "      <td>1.000000</td>\n",
       "      <td>0.869106</td>\n",
       "      <td>-0.044022</td>\n",
       "    </tr>\n",
       "    <tr>\n",
       "      <th>NoEmp</th>\n",
       "      <td>0.091462</td>\n",
       "      <td>-0.005458</td>\n",
       "      <td>-0.045692</td>\n",
       "      <td>-0.028310</td>\n",
       "      <td>-0.029424</td>\n",
       "      <td>0.181704</td>\n",
       "      <td>1.000000</td>\n",
       "      <td>-0.070587</td>\n",
       "      <td>0.492143</td>\n",
       "      <td>0.517595</td>\n",
       "      <td>...</td>\n",
       "      <td>NaN</td>\n",
       "      <td>0.254868</td>\n",
       "      <td>0.288183</td>\n",
       "      <td>-0.070594</td>\n",
       "      <td>0.219072</td>\n",
       "      <td>0.230469</td>\n",
       "      <td>-0.031031</td>\n",
       "      <td>0.181704</td>\n",
       "      <td>0.171192</td>\n",
       "      <td>-0.036658</td>\n",
       "    </tr>\n",
       "    <tr>\n",
       "      <th>NewExist</th>\n",
       "      <td>-0.076954</td>\n",
       "      <td>0.035588</td>\n",
       "      <td>0.033267</td>\n",
       "      <td>-0.047577</td>\n",
       "      <td>-0.045840</td>\n",
       "      <td>-0.109986</td>\n",
       "      <td>-0.070587</td>\n",
       "      <td>1.000000</td>\n",
       "      <td>-0.037567</td>\n",
       "      <td>-0.055650</td>\n",
       "      <td>...</td>\n",
       "      <td>NaN</td>\n",
       "      <td>-0.099388</td>\n",
       "      <td>-0.099141</td>\n",
       "      <td>0.998183</td>\n",
       "      <td>-0.146421</td>\n",
       "      <td>0.018973</td>\n",
       "      <td>0.004485</td>\n",
       "      <td>-0.109986</td>\n",
       "      <td>-0.134328</td>\n",
       "      <td>0.006389</td>\n",
       "    </tr>\n",
       "    <tr>\n",
       "      <th>CreateJob</th>\n",
       "      <td>0.083110</td>\n",
       "      <td>-0.005618</td>\n",
       "      <td>-0.082175</td>\n",
       "      <td>0.041259</td>\n",
       "      <td>0.038529</td>\n",
       "      <td>0.206043</td>\n",
       "      <td>0.492143</td>\n",
       "      <td>-0.037567</td>\n",
       "      <td>1.000000</td>\n",
       "      <td>0.208444</td>\n",
       "      <td>...</td>\n",
       "      <td>NaN</td>\n",
       "      <td>0.292232</td>\n",
       "      <td>0.349186</td>\n",
       "      <td>-0.035896</td>\n",
       "      <td>0.270853</td>\n",
       "      <td>0.289490</td>\n",
       "      <td>-0.052487</td>\n",
       "      <td>0.206043</td>\n",
       "      <td>0.233169</td>\n",
       "      <td>-0.017713</td>\n",
       "    </tr>\n",
       "    <tr>\n",
       "      <th>RetainedJob</th>\n",
       "      <td>0.046504</td>\n",
       "      <td>-0.038190</td>\n",
       "      <td>-0.033438</td>\n",
       "      <td>0.040597</td>\n",
       "      <td>0.040933</td>\n",
       "      <td>0.101137</td>\n",
       "      <td>0.517595</td>\n",
       "      <td>-0.055650</td>\n",
       "      <td>0.208444</td>\n",
       "      <td>1.000000</td>\n",
       "      <td>...</td>\n",
       "      <td>NaN</td>\n",
       "      <td>0.189742</td>\n",
       "      <td>0.198760</td>\n",
       "      <td>-0.055309</td>\n",
       "      <td>0.116367</td>\n",
       "      <td>0.090867</td>\n",
       "      <td>-0.003849</td>\n",
       "      <td>0.101137</td>\n",
       "      <td>0.123491</td>\n",
       "      <td>-0.048481</td>\n",
       "    </tr>\n",
       "    <tr>\n",
       "      <th>FranchiseCode</th>\n",
       "      <td>0.030262</td>\n",
       "      <td>0.030543</td>\n",
       "      <td>-0.007139</td>\n",
       "      <td>-0.114129</td>\n",
       "      <td>-0.116005</td>\n",
       "      <td>0.098981</td>\n",
       "      <td>0.116927</td>\n",
       "      <td>0.070184</td>\n",
       "      <td>0.189024</td>\n",
       "      <td>0.084467</td>\n",
       "      <td>...</td>\n",
       "      <td>NaN</td>\n",
       "      <td>0.093586</td>\n",
       "      <td>0.109128</td>\n",
       "      <td>0.070153</td>\n",
       "      <td>0.094449</td>\n",
       "      <td>0.175190</td>\n",
       "      <td>-0.013065</td>\n",
       "      <td>0.098981</td>\n",
       "      <td>0.044813</td>\n",
       "      <td>-0.031110</td>\n",
       "    </tr>\n",
       "    <tr>\n",
       "      <th>UrbanRural</th>\n",
       "      <td>-0.058959</td>\n",
       "      <td>0.022341</td>\n",
       "      <td>-0.268831</td>\n",
       "      <td>0.652914</td>\n",
       "      <td>0.650836</td>\n",
       "      <td>-0.121221</td>\n",
       "      <td>-0.005085</td>\n",
       "      <td>-0.027853</td>\n",
       "      <td>0.058037</td>\n",
       "      <td>0.035052</td>\n",
       "      <td>...</td>\n",
       "      <td>NaN</td>\n",
       "      <td>-0.023766</td>\n",
       "      <td>-0.021454</td>\n",
       "      <td>-0.027782</td>\n",
       "      <td>-0.062036</td>\n",
       "      <td>-0.229750</td>\n",
       "      <td>-0.007970</td>\n",
       "      <td>-0.121221</td>\n",
       "      <td>0.211850</td>\n",
       "      <td>0.019117</td>\n",
       "    </tr>\n",
       "    <tr>\n",
       "      <th>DisbursementDate</th>\n",
       "      <td>-0.230560</td>\n",
       "      <td>-0.024190</td>\n",
       "      <td>-0.403498</td>\n",
       "      <td>0.995385</td>\n",
       "      <td>0.992496</td>\n",
       "      <td>-0.229954</td>\n",
       "      <td>-0.015728</td>\n",
       "      <td>-0.049876</td>\n",
       "      <td>0.059247</td>\n",
       "      <td>0.046432</td>\n",
       "      <td>...</td>\n",
       "      <td>NaN</td>\n",
       "      <td>-0.048448</td>\n",
       "      <td>-0.035617</td>\n",
       "      <td>-0.050216</td>\n",
       "      <td>-0.145356</td>\n",
       "      <td>-0.293569</td>\n",
       "      <td>-0.025592</td>\n",
       "      <td>-0.229954</td>\n",
       "      <td>0.281516</td>\n",
       "      <td>-0.026928</td>\n",
       "    </tr>\n",
       "    <tr>\n",
       "      <th>DisbursementGross</th>\n",
       "      <td>0.196972</td>\n",
       "      <td>-0.003551</td>\n",
       "      <td>0.010669</td>\n",
       "      <td>-0.040345</td>\n",
       "      <td>-0.043147</td>\n",
       "      <td>0.603073</td>\n",
       "      <td>0.252168</td>\n",
       "      <td>-0.108092</td>\n",
       "      <td>0.286947</td>\n",
       "      <td>0.191802</td>\n",
       "      <td>...</td>\n",
       "      <td>NaN</td>\n",
       "      <td>0.991761</td>\n",
       "      <td>0.972735</td>\n",
       "      <td>-0.105621</td>\n",
       "      <td>0.585861</td>\n",
       "      <td>0.481456</td>\n",
       "      <td>-0.115351</td>\n",
       "      <td>0.603073</td>\n",
       "      <td>0.579742</td>\n",
       "      <td>-0.008613</td>\n",
       "    </tr>\n",
       "    <tr>\n",
       "      <th>BalanceGross</th>\n",
       "      <td>NaN</td>\n",
       "      <td>NaN</td>\n",
       "      <td>NaN</td>\n",
       "      <td>NaN</td>\n",
       "      <td>NaN</td>\n",
       "      <td>NaN</td>\n",
       "      <td>NaN</td>\n",
       "      <td>NaN</td>\n",
       "      <td>NaN</td>\n",
       "      <td>NaN</td>\n",
       "      <td>...</td>\n",
       "      <td>NaN</td>\n",
       "      <td>NaN</td>\n",
       "      <td>NaN</td>\n",
       "      <td>NaN</td>\n",
       "      <td>NaN</td>\n",
       "      <td>NaN</td>\n",
       "      <td>NaN</td>\n",
       "      <td>NaN</td>\n",
       "      <td>NaN</td>\n",
       "      <td>NaN</td>\n",
       "    </tr>\n",
       "    <tr>\n",
       "      <th>GrAppv</th>\n",
       "      <td>0.201626</td>\n",
       "      <td>-0.001500</td>\n",
       "      <td>0.021199</td>\n",
       "      <td>-0.060314</td>\n",
       "      <td>-0.063087</td>\n",
       "      <td>0.624273</td>\n",
       "      <td>0.254868</td>\n",
       "      <td>-0.099388</td>\n",
       "      <td>0.292232</td>\n",
       "      <td>0.189742</td>\n",
       "      <td>...</td>\n",
       "      <td>NaN</td>\n",
       "      <td>1.000000</td>\n",
       "      <td>0.982746</td>\n",
       "      <td>-0.096906</td>\n",
       "      <td>0.603579</td>\n",
       "      <td>0.511637</td>\n",
       "      <td>-0.115547</td>\n",
       "      <td>0.624273</td>\n",
       "      <td>0.590799</td>\n",
       "      <td>-0.003343</td>\n",
       "    </tr>\n",
       "    <tr>\n",
       "      <th>SBA_Appv</th>\n",
       "      <td>0.198880</td>\n",
       "      <td>0.009207</td>\n",
       "      <td>0.008717</td>\n",
       "      <td>-0.052000</td>\n",
       "      <td>-0.054158</td>\n",
       "      <td>0.626312</td>\n",
       "      <td>0.288183</td>\n",
       "      <td>-0.099141</td>\n",
       "      <td>0.349186</td>\n",
       "      <td>0.198760</td>\n",
       "      <td>...</td>\n",
       "      <td>NaN</td>\n",
       "      <td>0.982746</td>\n",
       "      <td>1.000000</td>\n",
       "      <td>-0.096088</td>\n",
       "      <td>0.630951</td>\n",
       "      <td>0.577156</td>\n",
       "      <td>-0.119925</td>\n",
       "      <td>0.626312</td>\n",
       "      <td>0.599298</td>\n",
       "      <td>-0.007285</td>\n",
       "    </tr>\n",
       "    <tr>\n",
       "      <th>New</th>\n",
       "      <td>-0.075942</td>\n",
       "      <td>0.035250</td>\n",
       "      <td>0.032440</td>\n",
       "      <td>-0.048168</td>\n",
       "      <td>-0.046565</td>\n",
       "      <td>-0.108558</td>\n",
       "      <td>-0.070594</td>\n",
       "      <td>0.998183</td>\n",
       "      <td>-0.035896</td>\n",
       "      <td>-0.055309</td>\n",
       "      <td>...</td>\n",
       "      <td>NaN</td>\n",
       "      <td>-0.096906</td>\n",
       "      <td>-0.096088</td>\n",
       "      <td>1.000000</td>\n",
       "      <td>-0.144484</td>\n",
       "      <td>0.021524</td>\n",
       "      <td>0.004193</td>\n",
       "      <td>-0.108558</td>\n",
       "      <td>-0.133110</td>\n",
       "      <td>0.003525</td>\n",
       "    </tr>\n",
       "    <tr>\n",
       "      <th>RealEstate</th>\n",
       "      <td>0.209245</td>\n",
       "      <td>0.020926</td>\n",
       "      <td>-0.081044</td>\n",
       "      <td>-0.160077</td>\n",
       "      <td>-0.159849</td>\n",
       "      <td>0.939372</td>\n",
       "      <td>0.219072</td>\n",
       "      <td>-0.146421</td>\n",
       "      <td>0.270853</td>\n",
       "      <td>0.116367</td>\n",
       "      <td>...</td>\n",
       "      <td>NaN</td>\n",
       "      <td>0.603579</td>\n",
       "      <td>0.630951</td>\n",
       "      <td>-0.144484</td>\n",
       "      <td>1.000000</td>\n",
       "      <td>0.643883</td>\n",
       "      <td>-0.166812</td>\n",
       "      <td>0.939372</td>\n",
       "      <td>0.852372</td>\n",
       "      <td>-0.055842</td>\n",
       "    </tr>\n",
       "    <tr>\n",
       "      <th>Portion</th>\n",
       "      <td>0.235212</td>\n",
       "      <td>0.071921</td>\n",
       "      <td>0.138437</td>\n",
       "      <td>-0.307422</td>\n",
       "      <td>-0.307250</td>\n",
       "      <td>0.648748</td>\n",
       "      <td>0.230469</td>\n",
       "      <td>0.018973</td>\n",
       "      <td>0.289490</td>\n",
       "      <td>0.090867</td>\n",
       "      <td>...</td>\n",
       "      <td>NaN</td>\n",
       "      <td>0.511637</td>\n",
       "      <td>0.577156</td>\n",
       "      <td>0.021524</td>\n",
       "      <td>0.643883</td>\n",
       "      <td>1.000000</td>\n",
       "      <td>-0.126091</td>\n",
       "      <td>0.648748</td>\n",
       "      <td>0.490136</td>\n",
       "      <td>-0.019605</td>\n",
       "    </tr>\n",
       "    <tr>\n",
       "      <th>Recession</th>\n",
       "      <td>-0.034228</td>\n",
       "      <td>-0.052743</td>\n",
       "      <td>0.014775</td>\n",
       "      <td>-0.022127</td>\n",
       "      <td>-0.020753</td>\n",
       "      <td>-0.205548</td>\n",
       "      <td>-0.031031</td>\n",
       "      <td>0.004485</td>\n",
       "      <td>-0.052487</td>\n",
       "      <td>-0.003849</td>\n",
       "      <td>...</td>\n",
       "      <td>NaN</td>\n",
       "      <td>-0.115547</td>\n",
       "      <td>-0.119925</td>\n",
       "      <td>0.004193</td>\n",
       "      <td>-0.166812</td>\n",
       "      <td>-0.126091</td>\n",
       "      <td>1.000000</td>\n",
       "      <td>-0.205548</td>\n",
       "      <td>-0.216097</td>\n",
       "      <td>-0.004047</td>\n",
       "    </tr>\n",
       "    <tr>\n",
       "      <th>daysterm</th>\n",
       "      <td>0.230270</td>\n",
       "      <td>0.029317</td>\n",
       "      <td>-0.016858</td>\n",
       "      <td>-0.239511</td>\n",
       "      <td>-0.239094</td>\n",
       "      <td>1.000000</td>\n",
       "      <td>0.181704</td>\n",
       "      <td>-0.109986</td>\n",
       "      <td>0.206043</td>\n",
       "      <td>0.101137</td>\n",
       "      <td>...</td>\n",
       "      <td>NaN</td>\n",
       "      <td>0.624273</td>\n",
       "      <td>0.626312</td>\n",
       "      <td>-0.108558</td>\n",
       "      <td>0.939372</td>\n",
       "      <td>0.648748</td>\n",
       "      <td>-0.205548</td>\n",
       "      <td>1.000000</td>\n",
       "      <td>0.869106</td>\n",
       "      <td>-0.044022</td>\n",
       "    </tr>\n",
       "    <tr>\n",
       "      <th>xx</th>\n",
       "      <td>0.111706</td>\n",
       "      <td>0.015559</td>\n",
       "      <td>-0.222079</td>\n",
       "      <td>0.269024</td>\n",
       "      <td>0.268003</td>\n",
       "      <td>0.869106</td>\n",
       "      <td>0.171192</td>\n",
       "      <td>-0.134328</td>\n",
       "      <td>0.233169</td>\n",
       "      <td>0.123491</td>\n",
       "      <td>...</td>\n",
       "      <td>NaN</td>\n",
       "      <td>0.590799</td>\n",
       "      <td>0.599298</td>\n",
       "      <td>-0.133110</td>\n",
       "      <td>0.852372</td>\n",
       "      <td>0.490136</td>\n",
       "      <td>-0.216097</td>\n",
       "      <td>0.869106</td>\n",
       "      <td>1.000000</td>\n",
       "      <td>-0.055716</td>\n",
       "    </tr>\n",
       "    <tr>\n",
       "      <th>CustomerId</th>\n",
       "      <td>-0.027866</td>\n",
       "      <td>-0.025919</td>\n",
       "      <td>0.002247</td>\n",
       "      <td>-0.020563</td>\n",
       "      <td>-0.015186</td>\n",
       "      <td>-0.044022</td>\n",
       "      <td>-0.036658</td>\n",
       "      <td>0.006389</td>\n",
       "      <td>-0.017713</td>\n",
       "      <td>-0.048481</td>\n",
       "      <td>...</td>\n",
       "      <td>NaN</td>\n",
       "      <td>-0.003343</td>\n",
       "      <td>-0.007285</td>\n",
       "      <td>0.003525</td>\n",
       "      <td>-0.055842</td>\n",
       "      <td>-0.019605</td>\n",
       "      <td>-0.004047</td>\n",
       "      <td>-0.044022</td>\n",
       "      <td>-0.055716</td>\n",
       "      <td>1.000000</td>\n",
       "    </tr>\n",
       "  </tbody>\n",
       "</table>\n",
       "<p>24 rows × 24 columns</p>\n",
       "</div>"
      ],
      "text/plain": [
       "                   LoanNr_ChkDgt       Zip     NAICS  ApprovalDate  \\\n",
       "LoanNr_ChkDgt           1.000000 -0.020553  0.140983     -0.243970   \n",
       "Zip                    -0.020553  1.000000 -0.075342     -0.023806   \n",
       "NAICS                   0.140983 -0.075342  1.000000     -0.398041   \n",
       "ApprovalDate           -0.243970 -0.023806 -0.398041      1.000000   \n",
       "ApprovalFY             -0.243239 -0.025069 -0.397177      0.997474   \n",
       "Term                    0.230270  0.029317 -0.016858     -0.239511   \n",
       "NoEmp                   0.091462 -0.005458 -0.045692     -0.028310   \n",
       "NewExist               -0.076954  0.035588  0.033267     -0.047577   \n",
       "CreateJob               0.083110 -0.005618 -0.082175      0.041259   \n",
       "RetainedJob             0.046504 -0.038190 -0.033438      0.040597   \n",
       "FranchiseCode           0.030262  0.030543 -0.007139     -0.114129   \n",
       "UrbanRural             -0.058959  0.022341 -0.268831      0.652914   \n",
       "DisbursementDate       -0.230560 -0.024190 -0.403498      0.995385   \n",
       "DisbursementGross       0.196972 -0.003551  0.010669     -0.040345   \n",
       "BalanceGross                 NaN       NaN       NaN           NaN   \n",
       "GrAppv                  0.201626 -0.001500  0.021199     -0.060314   \n",
       "SBA_Appv                0.198880  0.009207  0.008717     -0.052000   \n",
       "New                    -0.075942  0.035250  0.032440     -0.048168   \n",
       "RealEstate              0.209245  0.020926 -0.081044     -0.160077   \n",
       "Portion                 0.235212  0.071921  0.138437     -0.307422   \n",
       "Recession              -0.034228 -0.052743  0.014775     -0.022127   \n",
       "daysterm                0.230270  0.029317 -0.016858     -0.239511   \n",
       "xx                      0.111706  0.015559 -0.222079      0.269024   \n",
       "CustomerId             -0.027866 -0.025919  0.002247     -0.020563   \n",
       "\n",
       "                   ApprovalFY      Term     NoEmp  NewExist  CreateJob  \\\n",
       "LoanNr_ChkDgt       -0.243239  0.230270  0.091462 -0.076954   0.083110   \n",
       "Zip                 -0.025069  0.029317 -0.005458  0.035588  -0.005618   \n",
       "NAICS               -0.397177 -0.016858 -0.045692  0.033267  -0.082175   \n",
       "ApprovalDate         0.997474 -0.239511 -0.028310 -0.047577   0.041259   \n",
       "ApprovalFY           1.000000 -0.239094 -0.029424 -0.045840   0.038529   \n",
       "Term                -0.239094  1.000000  0.181704 -0.109986   0.206043   \n",
       "NoEmp               -0.029424  0.181704  1.000000 -0.070587   0.492143   \n",
       "NewExist            -0.045840 -0.109986 -0.070587  1.000000  -0.037567   \n",
       "CreateJob            0.038529  0.206043  0.492143 -0.037567   1.000000   \n",
       "RetainedJob          0.040933  0.101137  0.517595 -0.055650   0.208444   \n",
       "FranchiseCode       -0.116005  0.098981  0.116927  0.070184   0.189024   \n",
       "UrbanRural           0.650836 -0.121221 -0.005085 -0.027853   0.058037   \n",
       "DisbursementDate     0.992496 -0.229954 -0.015728 -0.049876   0.059247   \n",
       "DisbursementGross   -0.043147  0.603073  0.252168 -0.108092   0.286947   \n",
       "BalanceGross              NaN       NaN       NaN       NaN        NaN   \n",
       "GrAppv              -0.063087  0.624273  0.254868 -0.099388   0.292232   \n",
       "SBA_Appv            -0.054158  0.626312  0.288183 -0.099141   0.349186   \n",
       "New                 -0.046565 -0.108558 -0.070594  0.998183  -0.035896   \n",
       "RealEstate          -0.159849  0.939372  0.219072 -0.146421   0.270853   \n",
       "Portion             -0.307250  0.648748  0.230469  0.018973   0.289490   \n",
       "Recession           -0.020753 -0.205548 -0.031031  0.004485  -0.052487   \n",
       "daysterm            -0.239094  1.000000  0.181704 -0.109986   0.206043   \n",
       "xx                   0.268003  0.869106  0.171192 -0.134328   0.233169   \n",
       "CustomerId          -0.015186 -0.044022 -0.036658  0.006389  -0.017713   \n",
       "\n",
       "                   RetainedJob  ...  BalanceGross    GrAppv  SBA_Appv  \\\n",
       "LoanNr_ChkDgt         0.046504  ...           NaN  0.201626  0.198880   \n",
       "Zip                  -0.038190  ...           NaN -0.001500  0.009207   \n",
       "NAICS                -0.033438  ...           NaN  0.021199  0.008717   \n",
       "ApprovalDate          0.040597  ...           NaN -0.060314 -0.052000   \n",
       "ApprovalFY            0.040933  ...           NaN -0.063087 -0.054158   \n",
       "Term                  0.101137  ...           NaN  0.624273  0.626312   \n",
       "NoEmp                 0.517595  ...           NaN  0.254868  0.288183   \n",
       "NewExist             -0.055650  ...           NaN -0.099388 -0.099141   \n",
       "CreateJob             0.208444  ...           NaN  0.292232  0.349186   \n",
       "RetainedJob           1.000000  ...           NaN  0.189742  0.198760   \n",
       "FranchiseCode         0.084467  ...           NaN  0.093586  0.109128   \n",
       "UrbanRural            0.035052  ...           NaN -0.023766 -0.021454   \n",
       "DisbursementDate      0.046432  ...           NaN -0.048448 -0.035617   \n",
       "DisbursementGross     0.191802  ...           NaN  0.991761  0.972735   \n",
       "BalanceGross               NaN  ...           NaN       NaN       NaN   \n",
       "GrAppv                0.189742  ...           NaN  1.000000  0.982746   \n",
       "SBA_Appv              0.198760  ...           NaN  0.982746  1.000000   \n",
       "New                  -0.055309  ...           NaN -0.096906 -0.096088   \n",
       "RealEstate            0.116367  ...           NaN  0.603579  0.630951   \n",
       "Portion               0.090867  ...           NaN  0.511637  0.577156   \n",
       "Recession            -0.003849  ...           NaN -0.115547 -0.119925   \n",
       "daysterm              0.101137  ...           NaN  0.624273  0.626312   \n",
       "xx                    0.123491  ...           NaN  0.590799  0.599298   \n",
       "CustomerId           -0.048481  ...           NaN -0.003343 -0.007285   \n",
       "\n",
       "                        New  RealEstate   Portion  Recession  daysterm  \\\n",
       "LoanNr_ChkDgt     -0.075942    0.209245  0.235212  -0.034228  0.230270   \n",
       "Zip                0.035250    0.020926  0.071921  -0.052743  0.029317   \n",
       "NAICS              0.032440   -0.081044  0.138437   0.014775 -0.016858   \n",
       "ApprovalDate      -0.048168   -0.160077 -0.307422  -0.022127 -0.239511   \n",
       "ApprovalFY        -0.046565   -0.159849 -0.307250  -0.020753 -0.239094   \n",
       "Term              -0.108558    0.939372  0.648748  -0.205548  1.000000   \n",
       "NoEmp             -0.070594    0.219072  0.230469  -0.031031  0.181704   \n",
       "NewExist           0.998183   -0.146421  0.018973   0.004485 -0.109986   \n",
       "CreateJob         -0.035896    0.270853  0.289490  -0.052487  0.206043   \n",
       "RetainedJob       -0.055309    0.116367  0.090867  -0.003849  0.101137   \n",
       "FranchiseCode      0.070153    0.094449  0.175190  -0.013065  0.098981   \n",
       "UrbanRural        -0.027782   -0.062036 -0.229750  -0.007970 -0.121221   \n",
       "DisbursementDate  -0.050216   -0.145356 -0.293569  -0.025592 -0.229954   \n",
       "DisbursementGross -0.105621    0.585861  0.481456  -0.115351  0.603073   \n",
       "BalanceGross            NaN         NaN       NaN        NaN       NaN   \n",
       "GrAppv            -0.096906    0.603579  0.511637  -0.115547  0.624273   \n",
       "SBA_Appv          -0.096088    0.630951  0.577156  -0.119925  0.626312   \n",
       "New                1.000000   -0.144484  0.021524   0.004193 -0.108558   \n",
       "RealEstate        -0.144484    1.000000  0.643883  -0.166812  0.939372   \n",
       "Portion            0.021524    0.643883  1.000000  -0.126091  0.648748   \n",
       "Recession          0.004193   -0.166812 -0.126091   1.000000 -0.205548   \n",
       "daysterm          -0.108558    0.939372  0.648748  -0.205548  1.000000   \n",
       "xx                -0.133110    0.852372  0.490136  -0.216097  0.869106   \n",
       "CustomerId         0.003525   -0.055842 -0.019605  -0.004047 -0.044022   \n",
       "\n",
       "                         xx  CustomerId  \n",
       "LoanNr_ChkDgt      0.111706   -0.027866  \n",
       "Zip                0.015559   -0.025919  \n",
       "NAICS             -0.222079    0.002247  \n",
       "ApprovalDate       0.269024   -0.020563  \n",
       "ApprovalFY         0.268003   -0.015186  \n",
       "Term               0.869106   -0.044022  \n",
       "NoEmp              0.171192   -0.036658  \n",
       "NewExist          -0.134328    0.006389  \n",
       "CreateJob          0.233169   -0.017713  \n",
       "RetainedJob        0.123491   -0.048481  \n",
       "FranchiseCode      0.044813   -0.031110  \n",
       "UrbanRural         0.211850    0.019117  \n",
       "DisbursementDate   0.281516   -0.026928  \n",
       "DisbursementGross  0.579742   -0.008613  \n",
       "BalanceGross            NaN         NaN  \n",
       "GrAppv             0.590799   -0.003343  \n",
       "SBA_Appv           0.599298   -0.007285  \n",
       "New               -0.133110    0.003525  \n",
       "RealEstate         0.852372   -0.055842  \n",
       "Portion            0.490136   -0.019605  \n",
       "Recession         -0.216097   -0.004047  \n",
       "daysterm           0.869106   -0.044022  \n",
       "xx                 1.000000   -0.055716  \n",
       "CustomerId        -0.055716    1.000000  \n",
       "\n",
       "[24 rows x 24 columns]"
      ]
     },
     "execution_count": 8,
     "metadata": {},
     "output_type": "execute_result"
    }
   ],
   "source": [
    "data.corr()"
   ]
  },
  {
   "cell_type": "code",
   "execution_count": 9,
   "metadata": {},
   "outputs": [
    {
     "name": "stdout",
     "output_type": "stream",
     "text": [
      "<class 'pandas.core.frame.DataFrame'>\n",
      "RangeIndex: 2102 entries, 0 to 2101\n",
      "Data columns (total 32 columns):\n",
      " #   Column             Non-Null Count  Dtype  \n",
      "---  ------             --------------  -----  \n",
      " 0   MIS_Status         1102 non-null   object \n",
      " 1   LoanNr_ChkDgt      2102 non-null   int64  \n",
      " 2   Name               2102 non-null   object \n",
      " 3   City               2102 non-null   object \n",
      " 4   State              2102 non-null   object \n",
      " 5   Zip                2102 non-null   int64  \n",
      " 6   Bank               2099 non-null   object \n",
      " 7   BankState          2099 non-null   object \n",
      " 8   NAICS              2102 non-null   int64  \n",
      " 9   ApprovalDate       2102 non-null   int64  \n",
      " 10  ApprovalFY         2102 non-null   int64  \n",
      " 11  Term               2102 non-null   int64  \n",
      " 12  NoEmp              2102 non-null   int64  \n",
      " 13  NewExist           2101 non-null   float64\n",
      " 14  CreateJob          2102 non-null   int64  \n",
      " 15  RetainedJob        2102 non-null   int64  \n",
      " 16  FranchiseCode      2102 non-null   int64  \n",
      " 17  UrbanRural         2102 non-null   int64  \n",
      " 18  RevLineCr          2100 non-null   object \n",
      " 19  LowDoc             2099 non-null   object \n",
      " 20  DisbursementDate   2099 non-null   float64\n",
      " 21  DisbursementGross  2102 non-null   int64  \n",
      " 22  BalanceGross       2102 non-null   int64  \n",
      " 23  GrAppv             2102 non-null   int64  \n",
      " 24  SBA_Appv           2102 non-null   int64  \n",
      " 25  New                2102 non-null   int64  \n",
      " 26  RealEstate         2102 non-null   int64  \n",
      " 27  Portion            2102 non-null   float64\n",
      " 28  Recession          2102 non-null   int64  \n",
      " 29  daysterm           2102 non-null   int64  \n",
      " 30  xx                 2099 non-null   float64\n",
      " 31  CustomerId         1000 non-null   float64\n",
      "dtypes: float64(5), int64(19), object(8)\n",
      "memory usage: 525.6+ KB\n"
     ]
    }
   ],
   "source": [
    "data.info()"
   ]
  },
  {
   "cell_type": "code",
   "execution_count": null,
   "metadata": {},
   "outputs": [],
   "source": []
  },
  {
   "cell_type": "markdown",
   "metadata": {},
   "source": [
    "# Feature Engineering"
   ]
  },
  {
   "cell_type": "markdown",
   "metadata": {},
   "source": [
    "### Drop Name"
   ]
  },
  {
   "cell_type": "code",
   "execution_count": 10,
   "metadata": {},
   "outputs": [],
   "source": [
    "data  = data.drop('Name', axis = 1)"
   ]
  },
  {
   "cell_type": "markdown",
   "metadata": {},
   "source": [
    "### Drop LoanNr"
   ]
  },
  {
   "cell_type": "code",
   "execution_count": 11,
   "metadata": {},
   "outputs": [],
   "source": [
    "data = data.drop('LoanNr_ChkDgt', axis = 1)"
   ]
  },
  {
   "cell_type": "markdown",
   "metadata": {},
   "source": [
    "### Drop State"
   ]
  },
  {
   "cell_type": "code",
   "execution_count": 12,
   "metadata": {},
   "outputs": [
    {
     "data": {
      "text/plain": [
       "array(['CA'], dtype=object)"
      ]
     },
     "execution_count": 12,
     "metadata": {},
     "output_type": "execute_result"
    }
   ],
   "source": [
    "data['State'].unique()"
   ]
  },
  {
   "cell_type": "code",
   "execution_count": 13,
   "metadata": {},
   "outputs": [],
   "source": [
    "data = data.drop('State', axis = 1)"
   ]
  },
  {
   "cell_type": "markdown",
   "metadata": {},
   "source": [
    "### Drop City"
   ]
  },
  {
   "cell_type": "code",
   "execution_count": 14,
   "metadata": {},
   "outputs": [],
   "source": [
    "data = data.drop('City', axis = 1)"
   ]
  },
  {
   "cell_type": "markdown",
   "metadata": {},
   "source": []
  },
  {
   "cell_type": "markdown",
   "metadata": {},
   "source": [
    "### ZIP"
   ]
  },
  {
   "cell_type": "code",
   "execution_count": 15,
   "metadata": {},
   "outputs": [
    {
     "data": {
      "text/plain": [
       "array(['35', '54', '17', '40', '34', '02', '36', '57', '13', '28', '26',\n",
       "       '15', '30', '56', '51', '21', '14', '20', '06', '25', '10', '61',\n",
       "       '53', '46', '44', '19', '00', '08', '24', '07', '49', '59', '45',\n",
       "       '41', '39', '16', '47', '23', '37', '58', '60', '55', '33', '31',\n",
       "       '11', '50', '05', '32', '03', '12', '27', '22', '48', '04', '52',\n",
       "       '18', '43'], dtype=object)"
      ]
     },
     "execution_count": 15,
     "metadata": {},
     "output_type": "execute_result"
    }
   ],
   "source": [
    "data['Zip'].apply(lambda x : str(x)[1:3]).unique()"
   ]
  },
  {
   "cell_type": "code",
   "execution_count": 16,
   "metadata": {},
   "outputs": [],
   "source": [
    "data['Zip'] = data['Zip'].apply(lambda x : str(x)[1:3])"
   ]
  },
  {
   "cell_type": "code",
   "execution_count": 17,
   "metadata": {},
   "outputs": [],
   "source": [
    "data['Zip'] = data['Zip'].astype('category').cat.codes"
   ]
  },
  {
   "cell_type": "code",
   "execution_count": null,
   "metadata": {},
   "outputs": [],
   "source": []
  },
  {
   "cell_type": "markdown",
   "metadata": {},
   "source": [
    "### bank"
   ]
  },
  {
   "cell_type": "code",
   "execution_count": 18,
   "metadata": {},
   "outputs": [
    {
     "data": {
      "text/plain": [
       "155"
      ]
     },
     "execution_count": 18,
     "metadata": {},
     "output_type": "execute_result"
    }
   ],
   "source": [
    "len(data['Bank'].unique())"
   ]
  },
  {
   "cell_type": "code",
   "execution_count": 19,
   "metadata": {},
   "outputs": [
    {
     "name": "stderr",
     "output_type": "stream",
     "text": [
      "/Users/huangzijing/opt/miniconda3/lib/python3.8/site-packages/seaborn/_decorators.py:36: FutureWarning: Pass the following variable as a keyword arg: x. From version 0.12, the only valid positional argument will be `data`, and passing other arguments without an explicit keyword will result in an error or misinterpretation.\n",
      "  warnings.warn(\n"
     ]
    },
    {
     "data": {
      "text/plain": [
       "<AxesSubplot:xlabel='Bank', ylabel='count'>"
      ]
     },
     "execution_count": 19,
     "metadata": {},
     "output_type": "execute_result"
    },
    {
     "data": {
      "image/png": "[encoded data removed]",
      "text/plain": [
       "<Figure size 4320x2880 with 1 Axes>"
      ]
     },
     "metadata": {
      "needs_background": "light"
     },
     "output_type": "display_data"
    }
   ],
   "source": [
    "plt.figure(figsize=(60,40))\n",
    "sns.countplot(data['Bank'], hue = data['MIS_Status'])"
   ]
  },
  {
   "cell_type": "code",
   "execution_count": 20,
   "metadata": {},
   "outputs": [],
   "source": [
    "data['Bank'] = data['Bank'].astype('category').cat.codes"
   ]
  },
  {
   "cell_type": "code",
   "execution_count": 21,
   "metadata": {},
   "outputs": [
    {
     "data": {
      "text/plain": [
       "0        11\n",
       "1       142\n",
       "2        11\n",
       "3       147\n",
       "4       140\n",
       "       ... \n",
       "2097    148\n",
       "2098    149\n",
       "2099    140\n",
       "2100     29\n",
       "2101     31\n",
       "Name: Bank, Length: 2102, dtype: int16"
      ]
     },
     "execution_count": 21,
     "metadata": {},
     "output_type": "execute_result"
    }
   ],
   "source": [
    "data['Bank']"
   ]
  },
  {
   "cell_type": "code",
   "execution_count": null,
   "metadata": {},
   "outputs": [],
   "source": []
  },
  {
   "cell_type": "markdown",
   "metadata": {},
   "source": [
    "### BankState"
   ]
  },
  {
   "cell_type": "code",
   "execution_count": 22,
   "metadata": {},
   "outputs": [
    {
     "name": "stderr",
     "output_type": "stream",
     "text": [
      "/Users/huangzijing/opt/miniconda3/lib/python3.8/site-packages/seaborn/_decorators.py:36: FutureWarning: Pass the following variable as a keyword arg: x. From version 0.12, the only valid positional argument will be `data`, and passing other arguments without an explicit keyword will result in an error or misinterpretation.\n",
      "  warnings.warn(\n"
     ]
    },
    {
     "data": {
      "text/plain": [
       "<AxesSubplot:xlabel='BankState', ylabel='count'>"
      ]
     },
     "execution_count": 22,
     "metadata": {},
     "output_type": "execute_result"
    },
    {
     "data": {
      "image/png": "[encoded data removed]",
      "text/plain": [
       "<Figure size 4320x2880 with 1 Axes>"
      ]
     },
     "metadata": {
      "needs_background": "light"
     },
     "output_type": "display_data"
    }
   ],
   "source": [
    "plt.figure(figsize=(60,40))\n",
    "sns.countplot(data['BankState'])"
   ]
  },
  {
   "cell_type": "code",
   "execution_count": 23,
   "metadata": {},
   "outputs": [
    {
     "data": {
      "text/plain": [
       "array(['NC', 'OR', 'CA', 'OH', 'IL', 'NY', 'MN', 'SD', 'UT', 'FL', 'NV',\n",
       "       'CO', 'VA', 'DC', 'TX', 'IN', 'MO', 'SC', 'AZ', 'RI', 'DE', nan],\n",
       "      dtype=object)"
      ]
     },
     "execution_count": 23,
     "metadata": {},
     "output_type": "execute_result"
    }
   ],
   "source": [
    "data['BankState'].unique()"
   ]
  },
  {
   "cell_type": "code",
   "execution_count": 24,
   "metadata": {},
   "outputs": [],
   "source": [
    "data['BankState'] = data['BankState'].astype('category').cat.codes"
   ]
  },
  {
   "cell_type": "code",
   "execution_count": 25,
   "metadata": {},
   "outputs": [
    {
     "data": {
      "text/plain": [
       "array([10, 14,  1, 13,  6, 12,  8, 17, 19,  5, 11,  2, 20,  3, 18,  7,  9,\n",
       "       16,  0, 15,  4, -1], dtype=int8)"
      ]
     },
     "execution_count": 25,
     "metadata": {},
     "output_type": "execute_result"
    }
   ],
   "source": [
    "data['BankState'].unique()"
   ]
  },
  {
   "cell_type": "code",
   "execution_count": 26,
   "metadata": {},
   "outputs": [
    {
     "data": {
      "text/html": [
       "<div>\n",
       "<style scoped>\n",
       "    .dataframe tbody tr th:only-of-type {\n",
       "        vertical-align: middle;\n",
       "    }\n",
       "\n",
       "    .dataframe tbody tr th {\n",
       "        vertical-align: top;\n",
       "    }\n",
       "\n",
       "    .dataframe thead th {\n",
       "        text-align: right;\n",
       "    }\n",
       "</style>\n",
       "<table border=\"1\" class=\"dataframe\">\n",
       "  <thead>\n",
       "    <tr style=\"text-align: right;\">\n",
       "      <th></th>\n",
       "      <th>MIS_Status</th>\n",
       "      <th>Zip</th>\n",
       "      <th>Bank</th>\n",
       "      <th>BankState</th>\n",
       "      <th>NAICS</th>\n",
       "      <th>ApprovalDate</th>\n",
       "      <th>ApprovalFY</th>\n",
       "      <th>Term</th>\n",
       "      <th>NoEmp</th>\n",
       "      <th>NewExist</th>\n",
       "      <th>...</th>\n",
       "      <th>BalanceGross</th>\n",
       "      <th>GrAppv</th>\n",
       "      <th>SBA_Appv</th>\n",
       "      <th>New</th>\n",
       "      <th>RealEstate</th>\n",
       "      <th>Portion</th>\n",
       "      <th>Recession</th>\n",
       "      <th>daysterm</th>\n",
       "      <th>xx</th>\n",
       "      <th>CustomerId</th>\n",
       "    </tr>\n",
       "  </thead>\n",
       "  <tbody>\n",
       "    <tr>\n",
       "      <th>1416</th>\n",
       "      <td>NaN</td>\n",
       "      <td>24</td>\n",
       "      <td>-1</td>\n",
       "      <td>-1</td>\n",
       "      <td>532230</td>\n",
       "      <td>10554</td>\n",
       "      <td>1989</td>\n",
       "      <td>120</td>\n",
       "      <td>4</td>\n",
       "      <td>1.0</td>\n",
       "      <td>...</td>\n",
       "      <td>0</td>\n",
       "      <td>80000</td>\n",
       "      <td>70240</td>\n",
       "      <td>0</td>\n",
       "      <td>0</td>\n",
       "      <td>0.878</td>\n",
       "      <td>0</td>\n",
       "      <td>3600</td>\n",
       "      <td>14223.0</td>\n",
       "      <td>1417.0</td>\n",
       "    </tr>\n",
       "    <tr>\n",
       "      <th>1493</th>\n",
       "      <td>NaN</td>\n",
       "      <td>15</td>\n",
       "      <td>-1</td>\n",
       "      <td>-1</td>\n",
       "      <td>532230</td>\n",
       "      <td>10947</td>\n",
       "      <td>1990</td>\n",
       "      <td>120</td>\n",
       "      <td>1</td>\n",
       "      <td>1.0</td>\n",
       "      <td>...</td>\n",
       "      <td>0</td>\n",
       "      <td>60000</td>\n",
       "      <td>54000</td>\n",
       "      <td>0</td>\n",
       "      <td>0</td>\n",
       "      <td>0.900</td>\n",
       "      <td>0</td>\n",
       "      <td>3600</td>\n",
       "      <td>14588.0</td>\n",
       "      <td>1494.0</td>\n",
       "    </tr>\n",
       "    <tr>\n",
       "      <th>1600</th>\n",
       "      <td>NaN</td>\n",
       "      <td>17</td>\n",
       "      <td>-1</td>\n",
       "      <td>-1</td>\n",
       "      <td>532111</td>\n",
       "      <td>11427</td>\n",
       "      <td>1991</td>\n",
       "      <td>60</td>\n",
       "      <td>1</td>\n",
       "      <td>1.0</td>\n",
       "      <td>...</td>\n",
       "      <td>0</td>\n",
       "      <td>288000</td>\n",
       "      <td>244800</td>\n",
       "      <td>0</td>\n",
       "      <td>0</td>\n",
       "      <td>0.850</td>\n",
       "      <td>0</td>\n",
       "      <td>1800</td>\n",
       "      <td>13334.0</td>\n",
       "      <td>1601.0</td>\n",
       "    </tr>\n",
       "  </tbody>\n",
       "</table>\n",
       "<p>3 rows × 28 columns</p>\n",
       "</div>"
      ],
      "text/plain": [
       "     MIS_Status  Zip  Bank  BankState   NAICS  ApprovalDate  ApprovalFY  Term  \\\n",
       "1416        NaN   24    -1         -1  532230         10554        1989   120   \n",
       "1493        NaN   15    -1         -1  532230         10947        1990   120   \n",
       "1600        NaN   17    -1         -1  532111         11427        1991    60   \n",
       "\n",
       "      NoEmp  NewExist  ...  BalanceGross  GrAppv  SBA_Appv  New RealEstate  \\\n",
       "1416      4       1.0  ...             0   80000     70240    0          0   \n",
       "1493      1       1.0  ...             0   60000     54000    0          0   \n",
       "1600      1       1.0  ...             0  288000    244800    0          0   \n",
       "\n",
       "     Portion  Recession  daysterm       xx  CustomerId  \n",
       "1416   0.878          0      3600  14223.0      1417.0  \n",
       "1493   0.900          0      3600  14588.0      1494.0  \n",
       "1600   0.850          0      1800  13334.0      1601.0  \n",
       "\n",
       "[3 rows x 28 columns]"
      ]
     },
     "execution_count": 26,
     "metadata": {},
     "output_type": "execute_result"
    }
   ],
   "source": [
    "data[data['BankState'] == -1]"
   ]
  },
  {
   "cell_type": "code",
   "execution_count": 27,
   "metadata": {},
   "outputs": [
    {
     "data": {
      "text/plain": [
       "Portion             -0.504803\n",
       "Term                -0.332314\n",
       "daysterm            -0.332314\n",
       "RealEstate          -0.328182\n",
       "SBA_Appv            -0.312544\n",
       "GrAppv              -0.290914\n",
       "DisbursementGross   -0.272813\n",
       "xx                  -0.255671\n",
       "CreateJob           -0.151297\n",
       "NAICS               -0.140257\n",
       "NoEmp               -0.117955\n",
       "FranchiseCode       -0.059550\n",
       "RetainedJob         -0.049192\n",
       "CustomerId          -0.026417\n",
       "New                 -0.014841\n",
       "NewExist            -0.013650\n",
       "Recession            0.021361\n",
       "Bank                 0.033856\n",
       "UrbanRural           0.044726\n",
       "Zip                  0.049066\n",
       "DisbursementDate     0.142568\n",
       "ApprovalDate         0.148461\n",
       "ApprovalFY           0.150372\n",
       "BankState            1.000000\n",
       "BalanceGross              NaN\n",
       "Name: BankState, dtype: float64"
      ]
     },
     "execution_count": 27,
     "metadata": {},
     "output_type": "execute_result"
    }
   ],
   "source": [
    "data.corr()['BankState'].sort_values()"
   ]
  },
  {
   "cell_type": "code",
   "execution_count": null,
   "metadata": {},
   "outputs": [],
   "source": []
  },
  {
   "cell_type": "markdown",
   "metadata": {},
   "source": [
    "### NAICS"
   ]
  },
  {
   "cell_type": "code",
   "execution_count": 28,
   "metadata": {},
   "outputs": [],
   "source": [
    "data['NAICS'] = data['NAICS'].apply(lambda x : str(x)[2:4])"
   ]
  },
  {
   "cell_type": "code",
   "execution_count": 29,
   "metadata": {},
   "outputs": [
    {
     "data": {
      "text/plain": [
       "array(['12', '13', '22', '24', '11', '21', '23', '31'], dtype=object)"
      ]
     },
     "execution_count": 29,
     "metadata": {},
     "output_type": "execute_result"
    }
   ],
   "source": [
    "data['NAICS'].unique()"
   ]
  },
  {
   "cell_type": "code",
   "execution_count": 30,
   "metadata": {},
   "outputs": [],
   "source": [
    "data['NAICS'] = data['NAICS'].astype('category').cat.codes"
   ]
  },
  {
   "cell_type": "code",
   "execution_count": null,
   "metadata": {},
   "outputs": [],
   "source": []
  },
  {
   "cell_type": "markdown",
   "metadata": {},
   "source": [
    "### ApprovalDate"
   ]
  },
  {
   "cell_type": "code",
   "execution_count": 31,
   "metadata": {},
   "outputs": [],
   "source": [
    "from datetime import datetime, timedelta"
   ]
  },
  {
   "cell_type": "code",
   "execution_count": 32,
   "metadata": {},
   "outputs": [],
   "source": [
    "data['ApprovalDate'] = data['ApprovalDate'].apply(\n",
    "    lambda x : (datetime.utcfromtimestamp(0) + \n",
    "                timedelta(x)).strftime(\"%Y-%m-%d\"))"
   ]
  },
  {
   "cell_type": "code",
   "execution_count": 33,
   "metadata": {},
   "outputs": [],
   "source": [
    "data['ApprovalDate']=pd.to_datetime(data['ApprovalDate'])"
   ]
  },
  {
   "cell_type": "code",
   "execution_count": 34,
   "metadata": {},
   "outputs": [],
   "source": [
    "data['AP_Year'] = data['ApprovalDate'].dt.year\n",
    "data['AP_month'] = data['ApprovalDate'].dt.month\n",
    "data = data.drop('ApprovalDate', axis = 1)"
   ]
  },
  {
   "cell_type": "code",
   "execution_count": 35,
   "metadata": {},
   "outputs": [],
   "source": [
    "data['AP_Year'] = data['AP_Year'].astype('category').cat.codes\n",
    "data['AP_month'] = data['AP_month'].astype('category').cat.codes"
   ]
  },
  {
   "cell_type": "code",
   "execution_count": null,
   "metadata": {},
   "outputs": [],
   "source": []
  },
  {
   "cell_type": "markdown",
   "metadata": {},
   "source": [
    "### ApprovalFY"
   ]
  },
  {
   "cell_type": "code",
   "execution_count": null,
   "metadata": {},
   "outputs": [],
   "source": []
  },
  {
   "cell_type": "code",
   "execution_count": 36,
   "metadata": {},
   "outputs": [],
   "source": [
    "data['ApprovalFY'] = data['ApprovalFY'].astype('category').cat.codes"
   ]
  },
  {
   "cell_type": "code",
   "execution_count": 37,
   "metadata": {},
   "outputs": [
    {
     "data": {
      "text/plain": [
       "array([16, 12, 15, 14, 18, 17, 11, 13, 19,  6,  2,  7, 10, 21,  0, 20,  3,\n",
       "        9, 22,  8,  1,  5,  4, 23], dtype=int8)"
      ]
     },
     "execution_count": 37,
     "metadata": {},
     "output_type": "execute_result"
    }
   ],
   "source": [
    "data['ApprovalFY'].unique()"
   ]
  },
  {
   "cell_type": "code",
   "execution_count": 38,
   "metadata": {},
   "outputs": [
    {
     "data": {
      "text/plain": [
       "Portion             -0.307250\n",
       "NAICS               -0.305951\n",
       "Term                -0.239094\n",
       "daysterm            -0.239094\n",
       "RealEstate          -0.159849\n",
       "FranchiseCode       -0.116005\n",
       "Bank                -0.066593\n",
       "GrAppv              -0.063087\n",
       "SBA_Appv            -0.054158\n",
       "New                 -0.046565\n",
       "NewExist            -0.045840\n",
       "DisbursementGross   -0.043147\n",
       "NoEmp               -0.029424\n",
       "Zip                 -0.028278\n",
       "Recession           -0.020753\n",
       "CustomerId          -0.015186\n",
       "AP_month            -0.003491\n",
       "CreateJob            0.038529\n",
       "RetainedJob          0.040933\n",
       "BankState            0.150372\n",
       "xx                   0.268003\n",
       "UrbanRural           0.650836\n",
       "DisbursementDate     0.992496\n",
       "AP_Year              0.994458\n",
       "ApprovalFY           1.000000\n",
       "BalanceGross              NaN\n",
       "Name: ApprovalFY, dtype: float64"
      ]
     },
     "execution_count": 38,
     "metadata": {},
     "output_type": "execute_result"
    }
   ],
   "source": [
    "data.corr()['ApprovalFY'].sort_values()"
   ]
  },
  {
   "cell_type": "code",
   "execution_count": 39,
   "metadata": {},
   "outputs": [],
   "source": [
    "data = data.drop('ApprovalFY', axis = 1)"
   ]
  },
  {
   "cell_type": "markdown",
   "metadata": {},
   "source": [
    "### Term"
   ]
  },
  {
   "cell_type": "code",
   "execution_count": 40,
   "metadata": {},
   "outputs": [
    {
     "name": "stderr",
     "output_type": "stream",
     "text": [
      "/Users/huangzijing/opt/miniconda3/lib/python3.8/site-packages/seaborn/_decorators.py:36: FutureWarning: Pass the following variable as a keyword arg: x. From version 0.12, the only valid positional argument will be `data`, and passing other arguments without an explicit keyword will result in an error or misinterpretation.\n",
      "  warnings.warn(\n"
     ]
    },
    {
     "data": {
      "text/plain": [
       "<AxesSubplot:xlabel='Term', ylabel='count'>"
      ]
     },
     "execution_count": 40,
     "metadata": {},
     "output_type": "execute_result"
    },
    {
     "data": {
      "image/png": "[encoded data removed]",
      "text/plain": [
       "<Figure size 4320x2880 with 1 Axes>"
      ]
     },
     "metadata": {
      "needs_background": "light"
     },
     "output_type": "display_data"
    }
   ],
   "source": [
    "plt.figure(figsize=(60,40))\n",
    "sns.countplot(data['Term'], hue = data['MIS_Status'])"
   ]
  },
  {
   "cell_type": "code",
   "execution_count": 41,
   "metadata": {},
   "outputs": [],
   "source": [
    " data['Term'].replace([60, 84, 120, 240, 300, 36],\n",
    "    ['Spe_day','Spe_day','Spe_day','Spe_day','Spe_day', 'Spe_day2'], inplace = True)"
   ]
  },
  {
   "cell_type": "code",
   "execution_count": 42,
   "metadata": {},
   "outputs": [],
   "source": [
    "data.loc[(data['Term'] != 'Spe_day') & (data['Term'] != 'Spe_day2'), \n",
    "         'Term'] = 'Other_code'\n"
   ]
  },
  {
   "cell_type": "code",
   "execution_count": 43,
   "metadata": {},
   "outputs": [],
   "source": [
    "data['Term'] = data['Term'].astype('category').cat.codes"
   ]
  },
  {
   "cell_type": "code",
   "execution_count": null,
   "metadata": {},
   "outputs": [],
   "source": []
  },
  {
   "cell_type": "markdown",
   "metadata": {},
   "source": [
    "### NoEmp"
   ]
  },
  {
   "cell_type": "code",
   "execution_count": 44,
   "metadata": {},
   "outputs": [
    {
     "name": "stderr",
     "output_type": "stream",
     "text": [
      "/Users/huangzijing/opt/miniconda3/lib/python3.8/site-packages/seaborn/_decorators.py:36: FutureWarning: Pass the following variable as a keyword arg: x. From version 0.12, the only valid positional argument will be `data`, and passing other arguments without an explicit keyword will result in an error or misinterpretation.\n",
      "  warnings.warn(\n"
     ]
    },
    {
     "data": {
      "text/plain": [
       "<AxesSubplot:xlabel='NoEmp', ylabel='count'>"
      ]
     },
     "execution_count": 44,
     "metadata": {},
     "output_type": "execute_result"
    },
    {
     "data": {
      "image/png": "[encoded data removed]",
      "text/plain": [
       "<Figure size 4320x2880 with 1 Axes>"
      ]
     },
     "metadata": {
      "needs_background": "light"
     },
     "output_type": "display_data"
    }
   ],
   "source": [
    "plt.figure(figsize=(60,40))\n",
    "sns.countplot(data['NoEmp'], hue = data['MIS_Status'])"
   ]
  },
  {
   "cell_type": "code",
   "execution_count": 45,
   "metadata": {},
   "outputs": [],
   "source": [
    "from sklearn.preprocessing import StandardScaler\n",
    "scaler = StandardScaler()              \n",
    "data['NoEmp'] = scaler.fit_transform(np.array(data['NoEmp']).reshape(-1,1)) \n"
   ]
  },
  {
   "cell_type": "code",
   "execution_count": null,
   "metadata": {},
   "outputs": [],
   "source": []
  },
  {
   "cell_type": "markdown",
   "metadata": {},
   "source": [
    "### NewExist"
   ]
  },
  {
   "cell_type": "code",
   "execution_count": 46,
   "metadata": {},
   "outputs": [
    {
     "name": "stderr",
     "output_type": "stream",
     "text": [
      "/Users/huangzijing/opt/miniconda3/lib/python3.8/site-packages/seaborn/_decorators.py:36: FutureWarning: Pass the following variable as a keyword arg: x. From version 0.12, the only valid positional argument will be `data`, and passing other arguments without an explicit keyword will result in an error or misinterpretation.\n",
      "  warnings.warn(\n"
     ]
    },
    {
     "data": {
      "text/plain": [
       "<AxesSubplot:xlabel='NewExist', ylabel='count'>"
      ]
     },
     "execution_count": 46,
     "metadata": {},
     "output_type": "execute_result"
    },
    {
     "data": {
      "image/png": "[encoded data removed]",
      "text/plain": [
       "<Figure size 4320x2880 with 1 Axes>"
      ]
     },
     "metadata": {
      "needs_background": "light"
     },
     "output_type": "display_data"
    }
   ],
   "source": [
    "plt.figure(figsize=(60,40))\n",
    "sns.countplot(data['NewExist'], hue = data['MIS_Status'])"
   ]
  },
  {
   "cell_type": "code",
   "execution_count": 47,
   "metadata": {},
   "outputs": [],
   "source": [
    "data.loc[(data['NewExist'] == 0), 'NewExist'] = 1"
   ]
  },
  {
   "cell_type": "code",
   "execution_count": 48,
   "metadata": {},
   "outputs": [],
   "source": [
    "data['NewExist'] = data['NewExist'].astype('category').cat.codes"
   ]
  },
  {
   "cell_type": "code",
   "execution_count": null,
   "metadata": {},
   "outputs": [],
   "source": []
  },
  {
   "cell_type": "markdown",
   "metadata": {},
   "source": [
    "### CreateJob"
   ]
  },
  {
   "cell_type": "code",
   "execution_count": 49,
   "metadata": {},
   "outputs": [
    {
     "name": "stderr",
     "output_type": "stream",
     "text": [
      "/Users/huangzijing/opt/miniconda3/lib/python3.8/site-packages/seaborn/_decorators.py:36: FutureWarning: Pass the following variable as a keyword arg: x. From version 0.12, the only valid positional argument will be `data`, and passing other arguments without an explicit keyword will result in an error or misinterpretation.\n",
      "  warnings.warn(\n"
     ]
    },
    {
     "data": {
      "text/plain": [
       "<AxesSubplot:xlabel='CreateJob', ylabel='count'>"
      ]
     },
     "execution_count": 49,
     "metadata": {},
     "output_type": "execute_result"
    },
    {
     "data": {
      "image/png": "[encoded data removed]",
      "text/plain": [
       "<Figure size 4320x2880 with 1 Axes>"
      ]
     },
     "metadata": {
      "needs_background": "light"
     },
     "output_type": "display_data"
    }
   ],
   "source": [
    "plt.figure(figsize=(60,40))\n",
    "sns.countplot(data['CreateJob'], hue = data['MIS_Status'])"
   ]
  },
  {
   "cell_type": "code",
   "execution_count": 50,
   "metadata": {},
   "outputs": [],
   "source": [
    "scaler = StandardScaler()              \n",
    "data['CreateJob'] = scaler.fit_transform(np.array(data['CreateJob']).reshape(-1,1)) \n"
   ]
  },
  {
   "cell_type": "code",
   "execution_count": null,
   "metadata": {},
   "outputs": [],
   "source": []
  },
  {
   "cell_type": "markdown",
   "metadata": {},
   "source": [
    "### RetainedJob"
   ]
  },
  {
   "cell_type": "code",
   "execution_count": 51,
   "metadata": {},
   "outputs": [
    {
     "data": {
      "text/plain": [
       "<seaborn.axisgrid.FacetGrid at 0x7ff8b7743220>"
      ]
     },
     "execution_count": 51,
     "metadata": {},
     "output_type": "execute_result"
    },
    {
     "data": {
      "text/plain": [
       "<Figure size 4320x2880 with 0 Axes>"
      ]
     },
     "metadata": {},
     "output_type": "display_data"
    },
    {
     "data": {
      "image/png": "[encoded data removed]",
      "text/plain": [
       "<Figure size 360x360 with 1 Axes>"
      ]
     },
     "metadata": {
      "needs_background": "light"
     },
     "output_type": "display_data"
    }
   ],
   "source": [
    "plt.figure(figsize=(60,40))\n",
    "sns.displot(data['RetainedJob'])"
   ]
  },
  {
   "cell_type": "code",
   "execution_count": 52,
   "metadata": {},
   "outputs": [],
   "source": [
    "scaler = StandardScaler()              \n",
    "data['RetainedJob'] = scaler.fit_transform(np.array(data['RetainedJob']).reshape(-1,1)) \n"
   ]
  },
  {
   "cell_type": "code",
   "execution_count": null,
   "metadata": {},
   "outputs": [],
   "source": []
  },
  {
   "cell_type": "markdown",
   "metadata": {},
   "source": [
    "### FranchiseCode"
   ]
  },
  {
   "cell_type": "code",
   "execution_count": 53,
   "metadata": {},
   "outputs": [
    {
     "name": "stderr",
     "output_type": "stream",
     "text": [
      "/Users/huangzijing/opt/miniconda3/lib/python3.8/site-packages/seaborn/_decorators.py:36: FutureWarning: Pass the following variable as a keyword arg: x. From version 0.12, the only valid positional argument will be `data`, and passing other arguments without an explicit keyword will result in an error or misinterpretation.\n",
      "  warnings.warn(\n"
     ]
    },
    {
     "data": {
      "text/plain": [
       "<AxesSubplot:xlabel='FranchiseCode', ylabel='count'>"
      ]
     },
     "execution_count": 53,
     "metadata": {},
     "output_type": "execute_result"
    },
    {
     "data": {
      "image/png": "[encoded data removed]",
      "text/plain": [
       "<Figure size 4320x2880 with 1 Axes>"
      ]
     },
     "metadata": {
      "needs_background": "light"
     },
     "output_type": "display_data"
    }
   ],
   "source": [
    "plt.figure(figsize=(60,40))\n",
    "sns.countplot(data['FranchiseCode'], hue = data['MIS_Status'])"
   ]
  },
  {
   "cell_type": "code",
   "execution_count": 54,
   "metadata": {},
   "outputs": [],
   "source": [
    "data.loc[(data['FranchiseCode'] != 0) & (data['FranchiseCode'] != 1), \n",
    "         'FranchiseCode'] = 'Other_code'"
   ]
  },
  {
   "cell_type": "code",
   "execution_count": 55,
   "metadata": {},
   "outputs": [],
   "source": [
    "data['FranchiseCode'] = data['FranchiseCode'].astype('category').cat.codes"
   ]
  },
  {
   "cell_type": "code",
   "execution_count": null,
   "metadata": {},
   "outputs": [],
   "source": []
  },
  {
   "cell_type": "markdown",
   "metadata": {},
   "source": [
    "### UrbanRural"
   ]
  },
  {
   "cell_type": "code",
   "execution_count": 56,
   "metadata": {},
   "outputs": [
    {
     "name": "stderr",
     "output_type": "stream",
     "text": [
      "/Users/huangzijing/opt/miniconda3/lib/python3.8/site-packages/seaborn/_decorators.py:36: FutureWarning: Pass the following variable as a keyword arg: x. From version 0.12, the only valid positional argument will be `data`, and passing other arguments without an explicit keyword will result in an error or misinterpretation.\n",
      "  warnings.warn(\n"
     ]
    },
    {
     "data": {
      "text/plain": [
       "<AxesSubplot:xlabel='UrbanRural', ylabel='count'>"
      ]
     },
     "execution_count": 56,
     "metadata": {},
     "output_type": "execute_result"
    },
    {
     "data": {
      "image/png": "[encoded data removed]",
      "text/plain": [
       "<Figure size 4320x2880 with 1 Axes>"
      ]
     },
     "metadata": {
      "needs_background": "light"
     },
     "output_type": "display_data"
    }
   ],
   "source": [
    "plt.figure(figsize=(60,40))\n",
    "sns.countplot(data['UrbanRural'], hue = data['MIS_Status'])"
   ]
  },
  {
   "cell_type": "code",
   "execution_count": 57,
   "metadata": {},
   "outputs": [],
   "source": [
    "data['UrbanRural'] = data['UrbanRural'].astype('category').cat.codes"
   ]
  },
  {
   "cell_type": "code",
   "execution_count": null,
   "metadata": {},
   "outputs": [],
   "source": []
  },
  {
   "cell_type": "markdown",
   "metadata": {},
   "source": [
    "### RevLineCr"
   ]
  },
  {
   "cell_type": "code",
   "execution_count": 58,
   "metadata": {},
   "outputs": [
    {
     "data": {
      "text/plain": [
       "array(['Y', '0', 'N', nan, 'T'], dtype=object)"
      ]
     },
     "execution_count": 58,
     "metadata": {},
     "output_type": "execute_result"
    }
   ],
   "source": [
    "data['RevLineCr'].unique()"
   ]
  },
  {
   "cell_type": "code",
   "execution_count": 59,
   "metadata": {},
   "outputs": [
    {
     "name": "stderr",
     "output_type": "stream",
     "text": [
      "/Users/huangzijing/opt/miniconda3/lib/python3.8/site-packages/seaborn/_decorators.py:36: FutureWarning: Pass the following variable as a keyword arg: x. From version 0.12, the only valid positional argument will be `data`, and passing other arguments without an explicit keyword will result in an error or misinterpretation.\n",
      "  warnings.warn(\n"
     ]
    },
    {
     "data": {
      "text/plain": [
       "<AxesSubplot:xlabel='RevLineCr', ylabel='count'>"
      ]
     },
     "execution_count": 59,
     "metadata": {},
     "output_type": "execute_result"
    },
    {
     "data": {
      "image/png": "[encoded data removed]",
      "text/plain": [
       "<Figure size 4320x2880 with 1 Axes>"
      ]
     },
     "metadata": {
      "needs_background": "light"
     },
     "output_type": "display_data"
    }
   ],
   "source": [
    "plt.figure(figsize=(60,40))\n",
    "sns.countplot(data['RevLineCr'], hue = data['MIS_Status'])"
   ]
  },
  {
   "cell_type": "code",
   "execution_count": 60,
   "metadata": {},
   "outputs": [],
   "source": [
    "data['RevLineCr'].replace(['0','T'],np.nan, inplace = True)\n"
   ]
  },
  {
   "cell_type": "code",
   "execution_count": 61,
   "metadata": {},
   "outputs": [],
   "source": [
    "data['RevLineCr'] = data['RevLineCr'].astype('category').cat.codes\n"
   ]
  },
  {
   "cell_type": "code",
   "execution_count": null,
   "metadata": {},
   "outputs": [],
   "source": []
  },
  {
   "cell_type": "markdown",
   "metadata": {},
   "source": [
    "### LowDoc"
   ]
  },
  {
   "cell_type": "code",
   "execution_count": 62,
   "metadata": {},
   "outputs": [
    {
     "data": {
      "text/plain": [
       "array(['N', 'Y', '0', 'S', nan, 'A'], dtype=object)"
      ]
     },
     "execution_count": 62,
     "metadata": {},
     "output_type": "execute_result"
    }
   ],
   "source": [
    "data['LowDoc'].unique()"
   ]
  },
  {
   "cell_type": "code",
   "execution_count": 63,
   "metadata": {},
   "outputs": [],
   "source": [
    "data['LowDoc'].replace(['0','S','A'],np.nan, inplace = True)\n",
    "data['LowDoc'] = data['LowDoc'].astype('category').cat.codes"
   ]
  },
  {
   "cell_type": "code",
   "execution_count": 64,
   "metadata": {},
   "outputs": [
    {
     "data": {
      "text/html": [
       "<div>\n",
       "<style scoped>\n",
       "    .dataframe tbody tr th:only-of-type {\n",
       "        vertical-align: middle;\n",
       "    }\n",
       "\n",
       "    .dataframe tbody tr th {\n",
       "        vertical-align: top;\n",
       "    }\n",
       "\n",
       "    .dataframe thead th {\n",
       "        text-align: right;\n",
       "    }\n",
       "</style>\n",
       "<table border=\"1\" class=\"dataframe\">\n",
       "  <thead>\n",
       "    <tr style=\"text-align: right;\">\n",
       "      <th></th>\n",
       "      <th>MIS_Status</th>\n",
       "      <th>Zip</th>\n",
       "      <th>Bank</th>\n",
       "      <th>BankState</th>\n",
       "      <th>NAICS</th>\n",
       "      <th>Term</th>\n",
       "      <th>NoEmp</th>\n",
       "      <th>NewExist</th>\n",
       "      <th>CreateJob</th>\n",
       "      <th>RetainedJob</th>\n",
       "      <th>...</th>\n",
       "      <th>SBA_Appv</th>\n",
       "      <th>New</th>\n",
       "      <th>RealEstate</th>\n",
       "      <th>Portion</th>\n",
       "      <th>Recession</th>\n",
       "      <th>daysterm</th>\n",
       "      <th>xx</th>\n",
       "      <th>CustomerId</th>\n",
       "      <th>AP_Year</th>\n",
       "      <th>AP_month</th>\n",
       "    </tr>\n",
       "  </thead>\n",
       "  <tbody>\n",
       "    <tr>\n",
       "      <th>221</th>\n",
       "      <td>P I F</td>\n",
       "      <td>53</td>\n",
       "      <td>148</td>\n",
       "      <td>17</td>\n",
       "      <td>4</td>\n",
       "      <td>1</td>\n",
       "      <td>-0.236982</td>\n",
       "      <td>0</td>\n",
       "      <td>-0.318415</td>\n",
       "      <td>-0.305900</td>\n",
       "      <td>...</td>\n",
       "      <td>350000</td>\n",
       "      <td>0</td>\n",
       "      <td>1</td>\n",
       "      <td>0.70</td>\n",
       "      <td>0</td>\n",
       "      <td>9000</td>\n",
       "      <td>21814.0</td>\n",
       "      <td>NaN</td>\n",
       "      <td>6</td>\n",
       "      <td>10</td>\n",
       "    </tr>\n",
       "    <tr>\n",
       "      <th>512</th>\n",
       "      <td>CHGOFF</td>\n",
       "      <td>19</td>\n",
       "      <td>11</td>\n",
       "      <td>10</td>\n",
       "      <td>1</td>\n",
       "      <td>0</td>\n",
       "      <td>-0.178833</td>\n",
       "      <td>0</td>\n",
       "      <td>-0.318415</td>\n",
       "      <td>-0.095080</td>\n",
       "      <td>...</td>\n",
       "      <td>29750</td>\n",
       "      <td>0</td>\n",
       "      <td>0</td>\n",
       "      <td>0.85</td>\n",
       "      <td>0</td>\n",
       "      <td>810</td>\n",
       "      <td>18401.0</td>\n",
       "      <td>NaN</td>\n",
       "      <td>20</td>\n",
       "      <td>1</td>\n",
       "    </tr>\n",
       "    <tr>\n",
       "      <th>970</th>\n",
       "      <td>CHGOFF</td>\n",
       "      <td>24</td>\n",
       "      <td>136</td>\n",
       "      <td>1</td>\n",
       "      <td>2</td>\n",
       "      <td>0</td>\n",
       "      <td>-0.266056</td>\n",
       "      <td>0</td>\n",
       "      <td>-0.318415</td>\n",
       "      <td>-0.253195</td>\n",
       "      <td>...</td>\n",
       "      <td>6375</td>\n",
       "      <td>0</td>\n",
       "      <td>0</td>\n",
       "      <td>0.85</td>\n",
       "      <td>0</td>\n",
       "      <td>2460</td>\n",
       "      <td>20388.0</td>\n",
       "      <td>NaN</td>\n",
       "      <td>21</td>\n",
       "      <td>0</td>\n",
       "    </tr>\n",
       "    <tr>\n",
       "      <th>1064</th>\n",
       "      <td>CHGOFF</td>\n",
       "      <td>27</td>\n",
       "      <td>136</td>\n",
       "      <td>1</td>\n",
       "      <td>2</td>\n",
       "      <td>0</td>\n",
       "      <td>-0.236982</td>\n",
       "      <td>1</td>\n",
       "      <td>-0.318415</td>\n",
       "      <td>-0.200490</td>\n",
       "      <td>...</td>\n",
       "      <td>9000</td>\n",
       "      <td>1</td>\n",
       "      <td>0</td>\n",
       "      <td>0.90</td>\n",
       "      <td>0</td>\n",
       "      <td>2970</td>\n",
       "      <td>20957.0</td>\n",
       "      <td>NaN</td>\n",
       "      <td>21</td>\n",
       "      <td>2</td>\n",
       "    </tr>\n",
       "    <tr>\n",
       "      <th>1368</th>\n",
       "      <td>NaN</td>\n",
       "      <td>24</td>\n",
       "      <td>136</td>\n",
       "      <td>1</td>\n",
       "      <td>3</td>\n",
       "      <td>0</td>\n",
       "      <td>-0.091609</td>\n",
       "      <td>1</td>\n",
       "      <td>0.305940</td>\n",
       "      <td>0.063036</td>\n",
       "      <td>...</td>\n",
       "      <td>6750</td>\n",
       "      <td>1</td>\n",
       "      <td>0</td>\n",
       "      <td>0.90</td>\n",
       "      <td>0</td>\n",
       "      <td>2970</td>\n",
       "      <td>21018.0</td>\n",
       "      <td>1369.0</td>\n",
       "      <td>21</td>\n",
       "      <td>4</td>\n",
       "    </tr>\n",
       "    <tr>\n",
       "      <th>1690</th>\n",
       "      <td>NaN</td>\n",
       "      <td>48</td>\n",
       "      <td>136</td>\n",
       "      <td>1</td>\n",
       "      <td>2</td>\n",
       "      <td>0</td>\n",
       "      <td>-0.236982</td>\n",
       "      <td>1</td>\n",
       "      <td>-0.068673</td>\n",
       "      <td>-0.200490</td>\n",
       "      <td>...</td>\n",
       "      <td>4500</td>\n",
       "      <td>1</td>\n",
       "      <td>0</td>\n",
       "      <td>0.90</td>\n",
       "      <td>0</td>\n",
       "      <td>2550</td>\n",
       "      <td>20938.0</td>\n",
       "      <td>1691.0</td>\n",
       "      <td>22</td>\n",
       "      <td>4</td>\n",
       "    </tr>\n",
       "    <tr>\n",
       "      <th>1876</th>\n",
       "      <td>NaN</td>\n",
       "      <td>51</td>\n",
       "      <td>119</td>\n",
       "      <td>1</td>\n",
       "      <td>1</td>\n",
       "      <td>1</td>\n",
       "      <td>-0.178833</td>\n",
       "      <td>0</td>\n",
       "      <td>-0.068673</td>\n",
       "      <td>-0.095080</td>\n",
       "      <td>...</td>\n",
       "      <td>31500</td>\n",
       "      <td>0</td>\n",
       "      <td>0</td>\n",
       "      <td>0.90</td>\n",
       "      <td>0</td>\n",
       "      <td>2520</td>\n",
       "      <td>20878.0</td>\n",
       "      <td>1877.0</td>\n",
       "      <td>22</td>\n",
       "      <td>3</td>\n",
       "    </tr>\n",
       "    <tr>\n",
       "      <th>2091</th>\n",
       "      <td>NaN</td>\n",
       "      <td>0</td>\n",
       "      <td>135</td>\n",
       "      <td>1</td>\n",
       "      <td>1</td>\n",
       "      <td>0</td>\n",
       "      <td>-0.266056</td>\n",
       "      <td>1</td>\n",
       "      <td>0.056198</td>\n",
       "      <td>-0.147785</td>\n",
       "      <td>...</td>\n",
       "      <td>127500</td>\n",
       "      <td>1</td>\n",
       "      <td>0</td>\n",
       "      <td>0.85</td>\n",
       "      <td>0</td>\n",
       "      <td>1650</td>\n",
       "      <td>19120.0</td>\n",
       "      <td>2092.0</td>\n",
       "      <td>19</td>\n",
       "      <td>8</td>\n",
       "    </tr>\n",
       "  </tbody>\n",
       "</table>\n",
       "<p>8 rows × 28 columns</p>\n",
       "</div>"
      ],
      "text/plain": [
       "     MIS_Status  Zip  Bank  BankState  NAICS  Term     NoEmp  NewExist  \\\n",
       "221       P I F   53   148         17      4     1 -0.236982         0   \n",
       "512      CHGOFF   19    11         10      1     0 -0.178833         0   \n",
       "970      CHGOFF   24   136          1      2     0 -0.266056         0   \n",
       "1064     CHGOFF   27   136          1      2     0 -0.236982         1   \n",
       "1368        NaN   24   136          1      3     0 -0.091609         1   \n",
       "1690        NaN   48   136          1      2     0 -0.236982         1   \n",
       "1876        NaN   51   119          1      1     1 -0.178833         0   \n",
       "2091        NaN    0   135          1      1     0 -0.266056         1   \n",
       "\n",
       "      CreateJob  RetainedJob  ...  SBA_Appv  New  RealEstate  Portion  \\\n",
       "221   -0.318415    -0.305900  ...    350000    0           1     0.70   \n",
       "512   -0.318415    -0.095080  ...     29750    0           0     0.85   \n",
       "970   -0.318415    -0.253195  ...      6375    0           0     0.85   \n",
       "1064  -0.318415    -0.200490  ...      9000    1           0     0.90   \n",
       "1368   0.305940     0.063036  ...      6750    1           0     0.90   \n",
       "1690  -0.068673    -0.200490  ...      4500    1           0     0.90   \n",
       "1876  -0.068673    -0.095080  ...     31500    0           0     0.90   \n",
       "2091   0.056198    -0.147785  ...    127500    1           0     0.85   \n",
       "\n",
       "      Recession  daysterm       xx  CustomerId  AP_Year  AP_month  \n",
       "221           0      9000  21814.0         NaN        6        10  \n",
       "512           0       810  18401.0         NaN       20         1  \n",
       "970           0      2460  20388.0         NaN       21         0  \n",
       "1064          0      2970  20957.0         NaN       21         2  \n",
       "1368          0      2970  21018.0      1369.0       21         4  \n",
       "1690          0      2550  20938.0      1691.0       22         4  \n",
       "1876          0      2520  20878.0      1877.0       22         3  \n",
       "2091          0      1650  19120.0      2092.0       19         8  \n",
       "\n",
       "[8 rows x 28 columns]"
      ]
     },
     "execution_count": 64,
     "metadata": {},
     "output_type": "execute_result"
    }
   ],
   "source": [
    "data[data['LowDoc'] == -1]"
   ]
  },
  {
   "cell_type": "code",
   "execution_count": null,
   "metadata": {},
   "outputs": [],
   "source": []
  },
  {
   "cell_type": "markdown",
   "metadata": {},
   "source": [
    "### DisbursementDate"
   ]
  },
  {
   "cell_type": "code",
   "execution_count": 65,
   "metadata": {},
   "outputs": [
    {
     "data": {
      "text/html": [
       "<div>\n",
       "<style scoped>\n",
       "    .dataframe tbody tr th:only-of-type {\n",
       "        vertical-align: middle;\n",
       "    }\n",
       "\n",
       "    .dataframe tbody tr th {\n",
       "        vertical-align: top;\n",
       "    }\n",
       "\n",
       "    .dataframe thead th {\n",
       "        text-align: right;\n",
       "    }\n",
       "</style>\n",
       "<table border=\"1\" class=\"dataframe\">\n",
       "  <thead>\n",
       "    <tr style=\"text-align: right;\">\n",
       "      <th></th>\n",
       "      <th>MIS_Status</th>\n",
       "      <th>Zip</th>\n",
       "      <th>Bank</th>\n",
       "      <th>BankState</th>\n",
       "      <th>NAICS</th>\n",
       "      <th>Term</th>\n",
       "      <th>NoEmp</th>\n",
       "      <th>NewExist</th>\n",
       "      <th>CreateJob</th>\n",
       "      <th>RetainedJob</th>\n",
       "      <th>...</th>\n",
       "      <th>SBA_Appv</th>\n",
       "      <th>New</th>\n",
       "      <th>RealEstate</th>\n",
       "      <th>Portion</th>\n",
       "      <th>Recession</th>\n",
       "      <th>daysterm</th>\n",
       "      <th>xx</th>\n",
       "      <th>CustomerId</th>\n",
       "      <th>AP_Year</th>\n",
       "      <th>AP_month</th>\n",
       "    </tr>\n",
       "  </thead>\n",
       "  <tbody>\n",
       "    <tr>\n",
       "      <th>917</th>\n",
       "      <td>P I F</td>\n",
       "      <td>0</td>\n",
       "      <td>148</td>\n",
       "      <td>17</td>\n",
       "      <td>0</td>\n",
       "      <td>1</td>\n",
       "      <td>-0.178833</td>\n",
       "      <td>0</td>\n",
       "      <td>-0.318415</td>\n",
       "      <td>-0.305900</td>\n",
       "      <td>...</td>\n",
       "      <td>17500</td>\n",
       "      <td>0</td>\n",
       "      <td>0</td>\n",
       "      <td>0.5</td>\n",
       "      <td>0</td>\n",
       "      <td>1800</td>\n",
       "      <td>NaN</td>\n",
       "      <td>NaN</td>\n",
       "      <td>9</td>\n",
       "      <td>1</td>\n",
       "    </tr>\n",
       "    <tr>\n",
       "      <th>1092</th>\n",
       "      <td>P I F</td>\n",
       "      <td>24</td>\n",
       "      <td>84</td>\n",
       "      <td>6</td>\n",
       "      <td>4</td>\n",
       "      <td>1</td>\n",
       "      <td>-0.266056</td>\n",
       "      <td>0</td>\n",
       "      <td>-0.318415</td>\n",
       "      <td>-0.305900</td>\n",
       "      <td>...</td>\n",
       "      <td>5000</td>\n",
       "      <td>0</td>\n",
       "      <td>0</td>\n",
       "      <td>0.5</td>\n",
       "      <td>0</td>\n",
       "      <td>2520</td>\n",
       "      <td>NaN</td>\n",
       "      <td>NaN</td>\n",
       "      <td>23</td>\n",
       "      <td>9</td>\n",
       "    </tr>\n",
       "    <tr>\n",
       "      <th>1998</th>\n",
       "      <td>NaN</td>\n",
       "      <td>6</td>\n",
       "      <td>18</td>\n",
       "      <td>1</td>\n",
       "      <td>2</td>\n",
       "      <td>0</td>\n",
       "      <td>0.082839</td>\n",
       "      <td>0</td>\n",
       "      <td>-0.068673</td>\n",
       "      <td>0.484677</td>\n",
       "      <td>...</td>\n",
       "      <td>50000</td>\n",
       "      <td>0</td>\n",
       "      <td>0</td>\n",
       "      <td>0.5</td>\n",
       "      <td>0</td>\n",
       "      <td>360</td>\n",
       "      <td>NaN</td>\n",
       "      <td>1999.0</td>\n",
       "      <td>16</td>\n",
       "      <td>2</td>\n",
       "    </tr>\n",
       "  </tbody>\n",
       "</table>\n",
       "<p>3 rows × 28 columns</p>\n",
       "</div>"
      ],
      "text/plain": [
       "     MIS_Status  Zip  Bank  BankState  NAICS  Term     NoEmp  NewExist  \\\n",
       "917       P I F    0   148         17      0     1 -0.178833         0   \n",
       "1092      P I F   24    84          6      4     1 -0.266056         0   \n",
       "1998        NaN    6    18          1      2     0  0.082839         0   \n",
       "\n",
       "      CreateJob  RetainedJob  ...  SBA_Appv  New  RealEstate  Portion  \\\n",
       "917   -0.318415    -0.305900  ...     17500    0           0      0.5   \n",
       "1092  -0.318415    -0.305900  ...      5000    0           0      0.5   \n",
       "1998  -0.068673     0.484677  ...     50000    0           0      0.5   \n",
       "\n",
       "      Recession  daysterm  xx  CustomerId  AP_Year  AP_month  \n",
       "917           0      1800 NaN         NaN        9         1  \n",
       "1092          0      2520 NaN         NaN       23         9  \n",
       "1998          0       360 NaN      1999.0       16         2  \n",
       "\n",
       "[3 rows x 28 columns]"
      ]
     },
     "execution_count": 65,
     "metadata": {},
     "output_type": "execute_result"
    }
   ],
   "source": [
    "data[data['DisbursementDate'].isnull()]"
   ]
  },
  {
   "cell_type": "code",
   "execution_count": 66,
   "metadata": {},
   "outputs": [
    {
     "data": {
      "text/plain": [
       "FranchiseCode       -0.401619\n",
       "NAICS               -0.311268\n",
       "Portion             -0.293569\n",
       "daysterm            -0.229954\n",
       "Term                -0.198543\n",
       "LowDoc              -0.180403\n",
       "RealEstate          -0.145356\n",
       "Bank                -0.066114\n",
       "NewExist            -0.052102\n",
       "New                 -0.050216\n",
       "GrAppv              -0.048448\n",
       "SBA_Appv            -0.035617\n",
       "DisbursementGross   -0.028999\n",
       "Zip                 -0.028703\n",
       "CustomerId          -0.026928\n",
       "Recession           -0.025592\n",
       "NoEmp               -0.015728\n",
       "AP_month            -0.013848\n",
       "RetainedJob          0.046432\n",
       "CreateJob            0.059247\n",
       "BankState            0.142568\n",
       "RevLineCr            0.231255\n",
       "xx                   0.281516\n",
       "UrbanRural           0.653755\n",
       "AP_Year              0.992921\n",
       "DisbursementDate     1.000000\n",
       "BalanceGross              NaN\n",
       "Name: DisbursementDate, dtype: float64"
      ]
     },
     "execution_count": 66,
     "metadata": {},
     "output_type": "execute_result"
    }
   ],
   "source": [
    "data.corr()['DisbursementDate'].sort_values()"
   ]
  },
  {
   "cell_type": "code",
   "execution_count": 67,
   "metadata": {},
   "outputs": [],
   "source": [
    "data = data.drop('DisbursementDate', axis = 1)"
   ]
  },
  {
   "cell_type": "code",
   "execution_count": null,
   "metadata": {},
   "outputs": [],
   "source": []
  },
  {
   "cell_type": "markdown",
   "metadata": {},
   "source": [
    "### DisbursementGross "
   ]
  },
  {
   "cell_type": "code",
   "execution_count": 68,
   "metadata": {},
   "outputs": [
    {
     "data": {
      "text/plain": [
       "<seaborn.axisgrid.FacetGrid at 0x7ff89f13afd0>"
      ]
     },
     "execution_count": 68,
     "metadata": {},
     "output_type": "execute_result"
    },
    {
     "data": {
      "text/plain": [
       "<Figure size 4320x2880 with 0 Axes>"
      ]
     },
     "metadata": {},
     "output_type": "display_data"
    },
    {
     "data": {
      "image/png": "[encoded data removed]",
      "text/plain": [
       "<Figure size 360x360 with 1 Axes>"
      ]
     },
     "metadata": {
      "needs_background": "light"
     },
     "output_type": "display_data"
    }
   ],
   "source": [
    "plt.figure(figsize=(60,40))\n",
    "sns.displot(data['DisbursementGross'])"
   ]
  },
  {
   "cell_type": "code",
   "execution_count": 69,
   "metadata": {},
   "outputs": [],
   "source": [
    "scaler = StandardScaler()              \n",
    "data['DisbursementGross'] = scaler.fit_transform(np.array(data['DisbursementGross']).reshape(-1,1)) \n"
   ]
  },
  {
   "cell_type": "code",
   "execution_count": null,
   "metadata": {},
   "outputs": [],
   "source": []
  },
  {
   "cell_type": "markdown",
   "metadata": {},
   "source": [
    "### BalanceGross"
   ]
  },
  {
   "cell_type": "code",
   "execution_count": 70,
   "metadata": {},
   "outputs": [
    {
     "data": {
      "text/plain": [
       "array([0])"
      ]
     },
     "execution_count": 70,
     "metadata": {},
     "output_type": "execute_result"
    }
   ],
   "source": [
    "data['BalanceGross'].unique()"
   ]
  },
  {
   "cell_type": "code",
   "execution_count": 71,
   "metadata": {},
   "outputs": [],
   "source": [
    "data = data.drop('BalanceGross', axis = 1)"
   ]
  },
  {
   "cell_type": "code",
   "execution_count": null,
   "metadata": {},
   "outputs": [],
   "source": []
  },
  {
   "cell_type": "markdown",
   "metadata": {},
   "source": [
    "### GrAppv"
   ]
  },
  {
   "cell_type": "code",
   "execution_count": 72,
   "metadata": {},
   "outputs": [
    {
     "data": {
      "text/plain": [
       "<seaborn.axisgrid.FacetGrid at 0x7ff8b9d491f0>"
      ]
     },
     "execution_count": 72,
     "metadata": {},
     "output_type": "execute_result"
    },
    {
     "data": {
      "text/plain": [
       "<Figure size 4320x2880 with 0 Axes>"
      ]
     },
     "metadata": {},
     "output_type": "display_data"
    },
    {
     "data": {
      "image/png": "[encoded data removed]",
      "text/plain": [
       "<Figure size 360x360 with 1 Axes>"
      ]
     },
     "metadata": {
      "needs_background": "light"
     },
     "output_type": "display_data"
    }
   ],
   "source": [
    "plt.figure(figsize=(60,40))\n",
    "sns.displot(data['GrAppv'])"
   ]
  },
  {
   "cell_type": "code",
   "execution_count": 73,
   "metadata": {},
   "outputs": [],
   "source": [
    "scaler = StandardScaler()              \n",
    "data['GrAppv'] = scaler.fit_transform(np.array(data['GrAppv']).reshape(-1,1)) \n"
   ]
  },
  {
   "cell_type": "code",
   "execution_count": null,
   "metadata": {},
   "outputs": [],
   "source": [
    "\n"
   ]
  },
  {
   "cell_type": "markdown",
   "metadata": {},
   "source": [
    "### SBA_Appv"
   ]
  },
  {
   "cell_type": "code",
   "execution_count": 74,
   "metadata": {},
   "outputs": [
    {
     "data": {
      "text/plain": [
       "<seaborn.axisgrid.FacetGrid at 0x7ff8a1250640>"
      ]
     },
     "execution_count": 74,
     "metadata": {},
     "output_type": "execute_result"
    },
    {
     "data": {
      "text/plain": [
       "<Figure size 4320x2880 with 0 Axes>"
      ]
     },
     "metadata": {},
     "output_type": "display_data"
    },
    {
     "data": {
      "image/png": "[encoded data removed]",
      "text/plain": [
       "<Figure size 360x360 with 1 Axes>"
      ]
     },
     "metadata": {
      "needs_background": "light"
     },
     "output_type": "display_data"
    }
   ],
   "source": [
    "plt.figure(figsize=(60,40))\n",
    "sns.displot(data['SBA_Appv'])"
   ]
  },
  {
   "cell_type": "code",
   "execution_count": 75,
   "metadata": {},
   "outputs": [],
   "source": [
    "data = data.drop('SBA_Appv', axis = 1)"
   ]
  },
  {
   "cell_type": "code",
   "execution_count": null,
   "metadata": {},
   "outputs": [],
   "source": []
  },
  {
   "cell_type": "markdown",
   "metadata": {},
   "source": [
    "### New"
   ]
  },
  {
   "cell_type": "code",
   "execution_count": 76,
   "metadata": {},
   "outputs": [
    {
     "data": {
      "text/plain": [
       "array([0, 1])"
      ]
     },
     "execution_count": 76,
     "metadata": {},
     "output_type": "execute_result"
    }
   ],
   "source": [
    "data['New'].unique()"
   ]
  },
  {
   "cell_type": "code",
   "execution_count": null,
   "metadata": {},
   "outputs": [],
   "source": []
  },
  {
   "cell_type": "markdown",
   "metadata": {},
   "source": [
    "### RealEstate"
   ]
  },
  {
   "cell_type": "code",
   "execution_count": 77,
   "metadata": {},
   "outputs": [
    {
     "data": {
      "text/plain": [
       "array([0, 1])"
      ]
     },
     "execution_count": 77,
     "metadata": {},
     "output_type": "execute_result"
    }
   ],
   "source": [
    "data['RealEstate'].unique()"
   ]
  },
  {
   "cell_type": "code",
   "execution_count": null,
   "metadata": {},
   "outputs": [],
   "source": []
  },
  {
   "cell_type": "markdown",
   "metadata": {},
   "source": [
    "### Portion"
   ]
  },
  {
   "cell_type": "code",
   "execution_count": 78,
   "metadata": {},
   "outputs": [
    {
     "data": {
      "text/plain": [
       "<seaborn.axisgrid.FacetGrid at 0x7ff8b9c80ca0>"
      ]
     },
     "execution_count": 78,
     "metadata": {},
     "output_type": "execute_result"
    },
    {
     "data": {
      "text/plain": [
       "<Figure size 4320x2880 with 0 Axes>"
      ]
     },
     "metadata": {},
     "output_type": "display_data"
    },
    {
     "data": {
      "image/png": "[encoded data removed]",
      "text/plain": [
       "<Figure size 360x360 with 1 Axes>"
      ]
     },
     "metadata": {
      "needs_background": "light"
     },
     "output_type": "display_data"
    }
   ],
   "source": [
    "plt.figure(figsize=(60,40))\n",
    "sns.displot(data['Portion'])"
   ]
  },
  {
   "cell_type": "code",
   "execution_count": null,
   "metadata": {},
   "outputs": [],
   "source": []
  },
  {
   "cell_type": "markdown",
   "metadata": {},
   "source": [
    "### Recession"
   ]
  },
  {
   "cell_type": "code",
   "execution_count": 79,
   "metadata": {},
   "outputs": [
    {
     "data": {
      "text/plain": [
       "array([0, 1])"
      ]
     },
     "execution_count": 79,
     "metadata": {},
     "output_type": "execute_result"
    }
   ],
   "source": [
    "data['Recession'].unique()"
   ]
  },
  {
   "cell_type": "code",
   "execution_count": 80,
   "metadata": {},
   "outputs": [
    {
     "name": "stdout",
     "output_type": "stream",
     "text": [
      "<class 'pandas.core.frame.DataFrame'>\n",
      "RangeIndex: 2102 entries, 0 to 2101\n",
      "Data columns (total 25 columns):\n",
      " #   Column             Non-Null Count  Dtype  \n",
      "---  ------             --------------  -----  \n",
      " 0   MIS_Status         1102 non-null   object \n",
      " 1   Zip                2102 non-null   int8   \n",
      " 2   Bank               2102 non-null   int16  \n",
      " 3   BankState          2102 non-null   int8   \n",
      " 4   NAICS              2102 non-null   int8   \n",
      " 5   Term               2102 non-null   int8   \n",
      " 6   NoEmp              2102 non-null   float64\n",
      " 7   NewExist           2102 non-null   int8   \n",
      " 8   CreateJob          2102 non-null   float64\n",
      " 9   RetainedJob        2102 non-null   float64\n",
      " 10  FranchiseCode      2102 non-null   int8   \n",
      " 11  UrbanRural         2102 non-null   int8   \n",
      " 12  RevLineCr          2102 non-null   int8   \n",
      " 13  LowDoc             2102 non-null   int8   \n",
      " 14  DisbursementGross  2102 non-null   float64\n",
      " 15  GrAppv             2102 non-null   float64\n",
      " 16  New                2102 non-null   int64  \n",
      " 17  RealEstate         2102 non-null   int64  \n",
      " 18  Portion            2102 non-null   float64\n",
      " 19  Recession          2102 non-null   int64  \n",
      " 20  daysterm           2102 non-null   int64  \n",
      " 21  xx                 2099 non-null   float64\n",
      " 22  CustomerId         1000 non-null   float64\n",
      " 23  AP_Year            2102 non-null   int8   \n",
      " 24  AP_month           2102 non-null   int8   \n",
      "dtypes: float64(8), int16(1), int64(4), int8(11), object(1)\n",
      "memory usage: 240.3+ KB\n"
     ]
    }
   ],
   "source": [
    "data.info()"
   ]
  },
  {
   "cell_type": "markdown",
   "metadata": {},
   "source": [
    "### daysterm"
   ]
  },
  {
   "cell_type": "code",
   "execution_count": 81,
   "metadata": {},
   "outputs": [],
   "source": [
    "data = data.drop('daysterm', axis = 1)"
   ]
  },
  {
   "cell_type": "code",
   "execution_count": null,
   "metadata": {},
   "outputs": [],
   "source": []
  },
  {
   "cell_type": "markdown",
   "metadata": {},
   "source": [
    "### xx"
   ]
  },
  {
   "cell_type": "code",
   "execution_count": 82,
   "metadata": {},
   "outputs": [],
   "source": [
    "data = data.drop('xx', axis = 1)"
   ]
  },
  {
   "cell_type": "code",
   "execution_count": null,
   "metadata": {},
   "outputs": [],
   "source": []
  },
  {
   "cell_type": "code",
   "execution_count": null,
   "metadata": {},
   "outputs": [],
   "source": []
  },
  {
   "cell_type": "markdown",
   "metadata": {},
   "source": [
    "# one hot encoding"
   ]
  },
  {
   "cell_type": "code",
   "execution_count": 83,
   "metadata": {},
   "outputs": [],
   "source": [
    "data['MIS_Status'] = data['MIS_Status'].astype('category').cat.codes"
   ]
  },
  {
   "cell_type": "code",
   "execution_count": 84,
   "metadata": {},
   "outputs": [
    {
     "name": "stdout",
     "output_type": "stream",
     "text": [
      "<class 'pandas.core.frame.DataFrame'>\n",
      "RangeIndex: 2102 entries, 0 to 2101\n",
      "Data columns (total 23 columns):\n",
      " #   Column             Non-Null Count  Dtype  \n",
      "---  ------             --------------  -----  \n",
      " 0   MIS_Status         2102 non-null   int8   \n",
      " 1   Zip                2102 non-null   int8   \n",
      " 2   Bank               2102 non-null   int16  \n",
      " 3   BankState          2102 non-null   int8   \n",
      " 4   NAICS              2102 non-null   int8   \n",
      " 5   Term               2102 non-null   int8   \n",
      " 6   NoEmp              2102 non-null   float64\n",
      " 7   NewExist           2102 non-null   int8   \n",
      " 8   CreateJob          2102 non-null   float64\n",
      " 9   RetainedJob        2102 non-null   float64\n",
      " 10  FranchiseCode      2102 non-null   int8   \n",
      " 11  UrbanRural         2102 non-null   int8   \n",
      " 12  RevLineCr          2102 non-null   int8   \n",
      " 13  LowDoc             2102 non-null   int8   \n",
      " 14  DisbursementGross  2102 non-null   float64\n",
      " 15  GrAppv             2102 non-null   float64\n",
      " 16  New                2102 non-null   int64  \n",
      " 17  RealEstate         2102 non-null   int64  \n",
      " 18  Portion            2102 non-null   float64\n",
      " 19  Recession          2102 non-null   int64  \n",
      " 20  CustomerId         1000 non-null   float64\n",
      " 21  AP_Year            2102 non-null   int8   \n",
      " 22  AP_month           2102 non-null   int8   \n",
      "dtypes: float64(7), int16(1), int64(3), int8(12)\n",
      "memory usage: 193.1 KB\n"
     ]
    }
   ],
   "source": [
    "data.info()"
   ]
  },
  {
   "cell_type": "code",
   "execution_count": null,
   "metadata": {},
   "outputs": [],
   "source": []
  },
  {
   "cell_type": "code",
   "execution_count": 85,
   "metadata": {},
   "outputs": [
    {
     "data": {
      "text/plain": [
       "array([ 1,  0, -1], dtype=int8)"
      ]
     },
     "execution_count": 85,
     "metadata": {},
     "output_type": "execute_result"
    }
   ],
   "source": [
    "data['MIS_Status'].unique()"
   ]
  },
  {
   "cell_type": "markdown",
   "metadata": {},
   "source": [
    "# Fill NAN value"
   ]
  },
  {
   "cell_type": "markdown",
   "metadata": {},
   "source": [
    "## BankState"
   ]
  },
  {
   "cell_type": "code",
   "execution_count": 86,
   "metadata": {},
   "outputs": [
    {
     "data": {
      "text/plain": [
       "1416    0\n",
       "1493    0\n",
       "1600    0\n",
       "Name: RevLineCr, dtype: int8"
      ]
     },
     "execution_count": 86,
     "metadata": {},
     "output_type": "execute_result"
    }
   ],
   "source": [
    "data[data['BankState'] == -1]['RevLineCr']"
   ]
  },
  {
   "cell_type": "code",
   "execution_count": 87,
   "metadata": {},
   "outputs": [],
   "source": [
    "BS_train_X = data[data['BankState'] != -1].drop(['MIS_Status', \n",
    "                                                 'BankState', \n",
    "                                                 'CustomerId',\n",
    "                                                'RevLineCr']\n",
    "                                                , axis = 1)\n",
    "BS_train_y = data[data['BankState'] != -1]['BankState']\n",
    "BS_test_X = data[data['BankState'] == -1].drop(['MIS_Status',\n",
    "                                                'BankState', 'CustomerId',\n",
    "                                               'RevLineCr']\n",
    "                                                , axis = 1)"
   ]
  },
  {
   "cell_type": "code",
   "execution_count": 88,
   "metadata": {},
   "outputs": [],
   "source": [
    "from xgboost import XGBClassifier\n",
    "xlf = XGBClassifier(max_depth=10,\n",
    "                        learning_rate=0.1,\n",
    "                        n_estimators=2000,\n",
    "                        nthread=-1,\n",
    "                        gamma=0,\n",
    "                        subsample=0.85,\n",
    "                        colsample_bytree=0.8,\n",
    "                    objective='multi:softmax'\n",
    "                   )\n",
    "xlf.fit(BS_train_X, BS_train_y)\n",
    "BS_pred = xlf.predict(BS_test_X)"
   ]
  },
  {
   "cell_type": "code",
   "execution_count": 89,
   "metadata": {},
   "outputs": [
    {
     "data": {
      "text/plain": [
       "array([1, 1, 1], dtype=int8)"
      ]
     },
     "execution_count": 89,
     "metadata": {},
     "output_type": "execute_result"
    }
   ],
   "source": [
    "BS_pred"
   ]
  },
  {
   "cell_type": "code",
   "execution_count": 90,
   "metadata": {},
   "outputs": [],
   "source": [
    "data['BankState'].replace([-1],[1], inplace = True)"
   ]
  },
  {
   "cell_type": "code",
   "execution_count": null,
   "metadata": {},
   "outputs": [],
   "source": []
  },
  {
   "cell_type": "markdown",
   "metadata": {},
   "source": [
    "## LowDoc"
   ]
  },
  {
   "cell_type": "code",
   "execution_count": 91,
   "metadata": {},
   "outputs": [
    {
     "data": {
      "text/html": [
       "<div>\n",
       "<style scoped>\n",
       "    .dataframe tbody tr th:only-of-type {\n",
       "        vertical-align: middle;\n",
       "    }\n",
       "\n",
       "    .dataframe tbody tr th {\n",
       "        vertical-align: top;\n",
       "    }\n",
       "\n",
       "    .dataframe thead th {\n",
       "        text-align: right;\n",
       "    }\n",
       "</style>\n",
       "<table border=\"1\" class=\"dataframe\">\n",
       "  <thead>\n",
       "    <tr style=\"text-align: right;\">\n",
       "      <th></th>\n",
       "      <th>MIS_Status</th>\n",
       "      <th>Zip</th>\n",
       "      <th>Bank</th>\n",
       "      <th>BankState</th>\n",
       "      <th>NAICS</th>\n",
       "      <th>Term</th>\n",
       "      <th>NoEmp</th>\n",
       "      <th>NewExist</th>\n",
       "      <th>CreateJob</th>\n",
       "      <th>RetainedJob</th>\n",
       "      <th>...</th>\n",
       "      <th>LowDoc</th>\n",
       "      <th>DisbursementGross</th>\n",
       "      <th>GrAppv</th>\n",
       "      <th>New</th>\n",
       "      <th>RealEstate</th>\n",
       "      <th>Portion</th>\n",
       "      <th>Recession</th>\n",
       "      <th>CustomerId</th>\n",
       "      <th>AP_Year</th>\n",
       "      <th>AP_month</th>\n",
       "    </tr>\n",
       "  </thead>\n",
       "  <tbody>\n",
       "    <tr>\n",
       "      <th>221</th>\n",
       "      <td>1</td>\n",
       "      <td>53</td>\n",
       "      <td>148</td>\n",
       "      <td>17</td>\n",
       "      <td>4</td>\n",
       "      <td>1</td>\n",
       "      <td>-0.236982</td>\n",
       "      <td>0</td>\n",
       "      <td>-0.318415</td>\n",
       "      <td>-0.305900</td>\n",
       "      <td>...</td>\n",
       "      <td>-1</td>\n",
       "      <td>0.760670</td>\n",
       "      <td>0.776995</td>\n",
       "      <td>0</td>\n",
       "      <td>1</td>\n",
       "      <td>0.70</td>\n",
       "      <td>0</td>\n",
       "      <td>NaN</td>\n",
       "      <td>6</td>\n",
       "      <td>10</td>\n",
       "    </tr>\n",
       "    <tr>\n",
       "      <th>512</th>\n",
       "      <td>0</td>\n",
       "      <td>19</td>\n",
       "      <td>11</td>\n",
       "      <td>10</td>\n",
       "      <td>1</td>\n",
       "      <td>0</td>\n",
       "      <td>-0.178833</td>\n",
       "      <td>0</td>\n",
       "      <td>-0.318415</td>\n",
       "      <td>-0.095080</td>\n",
       "      <td>...</td>\n",
       "      <td>-1</td>\n",
       "      <td>-0.614233</td>\n",
       "      <td>-0.576523</td>\n",
       "      <td>0</td>\n",
       "      <td>0</td>\n",
       "      <td>0.85</td>\n",
       "      <td>0</td>\n",
       "      <td>NaN</td>\n",
       "      <td>20</td>\n",
       "      <td>1</td>\n",
       "    </tr>\n",
       "    <tr>\n",
       "      <th>970</th>\n",
       "      <td>0</td>\n",
       "      <td>24</td>\n",
       "      <td>136</td>\n",
       "      <td>1</td>\n",
       "      <td>2</td>\n",
       "      <td>0</td>\n",
       "      <td>-0.266056</td>\n",
       "      <td>0</td>\n",
       "      <td>-0.318415</td>\n",
       "      <td>-0.253195</td>\n",
       "      <td>...</td>\n",
       "      <td>-1</td>\n",
       "      <td>-0.695545</td>\n",
       "      <td>-0.656570</td>\n",
       "      <td>0</td>\n",
       "      <td>0</td>\n",
       "      <td>0.85</td>\n",
       "      <td>0</td>\n",
       "      <td>NaN</td>\n",
       "      <td>21</td>\n",
       "      <td>0</td>\n",
       "    </tr>\n",
       "    <tr>\n",
       "      <th>1064</th>\n",
       "      <td>0</td>\n",
       "      <td>27</td>\n",
       "      <td>136</td>\n",
       "      <td>1</td>\n",
       "      <td>2</td>\n",
       "      <td>0</td>\n",
       "      <td>-0.236982</td>\n",
       "      <td>1</td>\n",
       "      <td>-0.318415</td>\n",
       "      <td>-0.200490</td>\n",
       "      <td>...</td>\n",
       "      <td>-1</td>\n",
       "      <td>-0.688153</td>\n",
       "      <td>-0.649293</td>\n",
       "      <td>1</td>\n",
       "      <td>0</td>\n",
       "      <td>0.90</td>\n",
       "      <td>0</td>\n",
       "      <td>NaN</td>\n",
       "      <td>21</td>\n",
       "      <td>2</td>\n",
       "    </tr>\n",
       "    <tr>\n",
       "      <th>1368</th>\n",
       "      <td>-1</td>\n",
       "      <td>24</td>\n",
       "      <td>136</td>\n",
       "      <td>1</td>\n",
       "      <td>3</td>\n",
       "      <td>0</td>\n",
       "      <td>-0.091609</td>\n",
       "      <td>1</td>\n",
       "      <td>0.305940</td>\n",
       "      <td>0.063036</td>\n",
       "      <td>...</td>\n",
       "      <td>-1</td>\n",
       "      <td>-0.695545</td>\n",
       "      <td>-0.656570</td>\n",
       "      <td>1</td>\n",
       "      <td>0</td>\n",
       "      <td>0.90</td>\n",
       "      <td>0</td>\n",
       "      <td>1369.0</td>\n",
       "      <td>21</td>\n",
       "      <td>4</td>\n",
       "    </tr>\n",
       "    <tr>\n",
       "      <th>1690</th>\n",
       "      <td>-1</td>\n",
       "      <td>48</td>\n",
       "      <td>136</td>\n",
       "      <td>1</td>\n",
       "      <td>2</td>\n",
       "      <td>0</td>\n",
       "      <td>-0.236982</td>\n",
       "      <td>1</td>\n",
       "      <td>-0.068673</td>\n",
       "      <td>-0.200490</td>\n",
       "      <td>...</td>\n",
       "      <td>-1</td>\n",
       "      <td>-0.702937</td>\n",
       "      <td>-0.663847</td>\n",
       "      <td>1</td>\n",
       "      <td>0</td>\n",
       "      <td>0.90</td>\n",
       "      <td>0</td>\n",
       "      <td>1691.0</td>\n",
       "      <td>22</td>\n",
       "      <td>4</td>\n",
       "    </tr>\n",
       "    <tr>\n",
       "      <th>1876</th>\n",
       "      <td>-1</td>\n",
       "      <td>51</td>\n",
       "      <td>119</td>\n",
       "      <td>1</td>\n",
       "      <td>1</td>\n",
       "      <td>1</td>\n",
       "      <td>-0.178833</td>\n",
       "      <td>0</td>\n",
       "      <td>-0.068673</td>\n",
       "      <td>-0.095080</td>\n",
       "      <td>...</td>\n",
       "      <td>-1</td>\n",
       "      <td>-0.614233</td>\n",
       "      <td>-0.576523</td>\n",
       "      <td>0</td>\n",
       "      <td>0</td>\n",
       "      <td>0.90</td>\n",
       "      <td>0</td>\n",
       "      <td>1877.0</td>\n",
       "      <td>22</td>\n",
       "      <td>3</td>\n",
       "    </tr>\n",
       "    <tr>\n",
       "      <th>2091</th>\n",
       "      <td>-1</td>\n",
       "      <td>0</td>\n",
       "      <td>135</td>\n",
       "      <td>1</td>\n",
       "      <td>1</td>\n",
       "      <td>0</td>\n",
       "      <td>-0.266056</td>\n",
       "      <td>1</td>\n",
       "      <td>0.056198</td>\n",
       "      <td>-0.147785</td>\n",
       "      <td>...</td>\n",
       "      <td>-1</td>\n",
       "      <td>-0.274204</td>\n",
       "      <td>-0.241782</td>\n",
       "      <td>1</td>\n",
       "      <td>0</td>\n",
       "      <td>0.85</td>\n",
       "      <td>0</td>\n",
       "      <td>2092.0</td>\n",
       "      <td>19</td>\n",
       "      <td>8</td>\n",
       "    </tr>\n",
       "  </tbody>\n",
       "</table>\n",
       "<p>8 rows × 23 columns</p>\n",
       "</div>"
      ],
      "text/plain": [
       "      MIS_Status  Zip  Bank  BankState  NAICS  Term     NoEmp  NewExist  \\\n",
       "221            1   53   148         17      4     1 -0.236982         0   \n",
       "512            0   19    11         10      1     0 -0.178833         0   \n",
       "970            0   24   136          1      2     0 -0.266056         0   \n",
       "1064           0   27   136          1      2     0 -0.236982         1   \n",
       "1368          -1   24   136          1      3     0 -0.091609         1   \n",
       "1690          -1   48   136          1      2     0 -0.236982         1   \n",
       "1876          -1   51   119          1      1     1 -0.178833         0   \n",
       "2091          -1    0   135          1      1     0 -0.266056         1   \n",
       "\n",
       "      CreateJob  RetainedJob  ...  LowDoc  DisbursementGross    GrAppv  New  \\\n",
       "221   -0.318415    -0.305900  ...      -1           0.760670  0.776995    0   \n",
       "512   -0.318415    -0.095080  ...      -1          -0.614233 -0.576523    0   \n",
       "970   -0.318415    -0.253195  ...      -1          -0.695545 -0.656570    0   \n",
       "1064  -0.318415    -0.200490  ...      -1          -0.688153 -0.649293    1   \n",
       "1368   0.305940     0.063036  ...      -1          -0.695545 -0.656570    1   \n",
       "1690  -0.068673    -0.200490  ...      -1          -0.702937 -0.663847    1   \n",
       "1876  -0.068673    -0.095080  ...      -1          -0.614233 -0.576523    0   \n",
       "2091   0.056198    -0.147785  ...      -1          -0.274204 -0.241782    1   \n",
       "\n",
       "      RealEstate  Portion  Recession  CustomerId  AP_Year  AP_month  \n",
       "221            1     0.70          0         NaN        6        10  \n",
       "512            0     0.85          0         NaN       20         1  \n",
       "970            0     0.85          0         NaN       21         0  \n",
       "1064           0     0.90          0         NaN       21         2  \n",
       "1368           0     0.90          0      1369.0       21         4  \n",
       "1690           0     0.90          0      1691.0       22         4  \n",
       "1876           0     0.90          0      1877.0       22         3  \n",
       "2091           0     0.85          0      2092.0       19         8  \n",
       "\n",
       "[8 rows x 23 columns]"
      ]
     },
     "execution_count": 91,
     "metadata": {},
     "output_type": "execute_result"
    }
   ],
   "source": [
    "data[data['LowDoc'] == -1]"
   ]
  },
  {
   "cell_type": "code",
   "execution_count": 92,
   "metadata": {},
   "outputs": [],
   "source": [
    "LD_train_X = data[data['LowDoc'] != -1].drop(['MIS_Status', 'LowDoc',\n",
    "                                              'CustomerId', 'RevLineCr']\n",
    "                                                , axis = 1)\n",
    "LD_train_y = data[data['LowDoc'] != -1]['LowDoc']\n",
    "LD_test_X = data[data['LowDoc'] == -1].drop(['MIS_Status', 'LowDoc', \n",
    "                                             'CustomerId', 'RevLineCr']\n",
    "                                                , axis = 1)"
   ]
  },
  {
   "cell_type": "code",
   "execution_count": 93,
   "metadata": {},
   "outputs": [
    {
     "data": {
      "text/html": [
       "<div>\n",
       "<style scoped>\n",
       "    .dataframe tbody tr th:only-of-type {\n",
       "        vertical-align: middle;\n",
       "    }\n",
       "\n",
       "    .dataframe tbody tr th {\n",
       "        vertical-align: top;\n",
       "    }\n",
       "\n",
       "    .dataframe thead th {\n",
       "        text-align: right;\n",
       "    }\n",
       "</style>\n",
       "<table border=\"1\" class=\"dataframe\">\n",
       "  <thead>\n",
       "    <tr style=\"text-align: right;\">\n",
       "      <th></th>\n",
       "      <th>Zip</th>\n",
       "      <th>Bank</th>\n",
       "      <th>BankState</th>\n",
       "      <th>NAICS</th>\n",
       "      <th>Term</th>\n",
       "      <th>NoEmp</th>\n",
       "      <th>NewExist</th>\n",
       "      <th>CreateJob</th>\n",
       "      <th>RetainedJob</th>\n",
       "      <th>FranchiseCode</th>\n",
       "      <th>UrbanRural</th>\n",
       "      <th>DisbursementGross</th>\n",
       "      <th>GrAppv</th>\n",
       "      <th>New</th>\n",
       "      <th>RealEstate</th>\n",
       "      <th>Portion</th>\n",
       "      <th>Recession</th>\n",
       "      <th>AP_Year</th>\n",
       "      <th>AP_month</th>\n",
       "    </tr>\n",
       "  </thead>\n",
       "  <tbody>\n",
       "    <tr>\n",
       "      <th>0</th>\n",
       "      <td>32</td>\n",
       "      <td>11</td>\n",
       "      <td>10</td>\n",
       "      <td>1</td>\n",
       "      <td>1</td>\n",
       "      <td>-0.236982</td>\n",
       "      <td>0</td>\n",
       "      <td>-0.318415</td>\n",
       "      <td>-0.305900</td>\n",
       "      <td>1</td>\n",
       "      <td>2</td>\n",
       "      <td>-0.685196</td>\n",
       "      <td>-0.646382</td>\n",
       "      <td>0</td>\n",
       "      <td>0</td>\n",
       "      <td>0.50000</td>\n",
       "      <td>0</td>\n",
       "      <td>16</td>\n",
       "      <td>11</td>\n",
       "    </tr>\n",
       "    <tr>\n",
       "      <th>1</th>\n",
       "      <td>49</td>\n",
       "      <td>142</td>\n",
       "      <td>14</td>\n",
       "      <td>2</td>\n",
       "      <td>1</td>\n",
       "      <td>-0.091609</td>\n",
       "      <td>0</td>\n",
       "      <td>-0.318415</td>\n",
       "      <td>0.063036</td>\n",
       "      <td>1</td>\n",
       "      <td>1</td>\n",
       "      <td>1.845217</td>\n",
       "      <td>1.844673</td>\n",
       "      <td>0</td>\n",
       "      <td>1</td>\n",
       "      <td>0.75000</td>\n",
       "      <td>0</td>\n",
       "      <td>13</td>\n",
       "      <td>5</td>\n",
       "    </tr>\n",
       "    <tr>\n",
       "      <th>2</th>\n",
       "      <td>15</td>\n",
       "      <td>11</td>\n",
       "      <td>10</td>\n",
       "      <td>4</td>\n",
       "      <td>1</td>\n",
       "      <td>-0.207907</td>\n",
       "      <td>0</td>\n",
       "      <td>-0.318415</td>\n",
       "      <td>-0.147785</td>\n",
       "      <td>1</td>\n",
       "      <td>1</td>\n",
       "      <td>-0.488934</td>\n",
       "      <td>-0.430984</td>\n",
       "      <td>0</td>\n",
       "      <td>0</td>\n",
       "      <td>0.50000</td>\n",
       "      <td>0</td>\n",
       "      <td>16</td>\n",
       "      <td>4</td>\n",
       "    </tr>\n",
       "    <tr>\n",
       "      <th>3</th>\n",
       "      <td>36</td>\n",
       "      <td>147</td>\n",
       "      <td>1</td>\n",
       "      <td>2</td>\n",
       "      <td>1</td>\n",
       "      <td>-0.004385</td>\n",
       "      <td>0</td>\n",
       "      <td>-0.318415</td>\n",
       "      <td>-0.305900</td>\n",
       "      <td>1</td>\n",
       "      <td>1</td>\n",
       "      <td>1.648000</td>\n",
       "      <td>1.679340</td>\n",
       "      <td>0</td>\n",
       "      <td>1</td>\n",
       "      <td>0.75000</td>\n",
       "      <td>0</td>\n",
       "      <td>13</td>\n",
       "      <td>5</td>\n",
       "    </tr>\n",
       "    <tr>\n",
       "      <th>4</th>\n",
       "      <td>36</td>\n",
       "      <td>140</td>\n",
       "      <td>13</td>\n",
       "      <td>1</td>\n",
       "      <td>1</td>\n",
       "      <td>-0.236982</td>\n",
       "      <td>0</td>\n",
       "      <td>-0.318415</td>\n",
       "      <td>-0.200490</td>\n",
       "      <td>1</td>\n",
       "      <td>1</td>\n",
       "      <td>2.399318</td>\n",
       "      <td>2.395976</td>\n",
       "      <td>0</td>\n",
       "      <td>1</td>\n",
       "      <td>0.72611</td>\n",
       "      <td>0</td>\n",
       "      <td>15</td>\n",
       "      <td>3</td>\n",
       "    </tr>\n",
       "    <tr>\n",
       "      <th>...</th>\n",
       "      <td>...</td>\n",
       "      <td>...</td>\n",
       "      <td>...</td>\n",
       "      <td>...</td>\n",
       "      <td>...</td>\n",
       "      <td>...</td>\n",
       "      <td>...</td>\n",
       "      <td>...</td>\n",
       "      <td>...</td>\n",
       "      <td>...</td>\n",
       "      <td>...</td>\n",
       "      <td>...</td>\n",
       "      <td>...</td>\n",
       "      <td>...</td>\n",
       "      <td>...</td>\n",
       "      <td>...</td>\n",
       "      <td>...</td>\n",
       "      <td>...</td>\n",
       "      <td>...</td>\n",
       "    </tr>\n",
       "    <tr>\n",
       "      <th>2097</th>\n",
       "      <td>37</td>\n",
       "      <td>148</td>\n",
       "      <td>17</td>\n",
       "      <td>4</td>\n",
       "      <td>1</td>\n",
       "      <td>-0.266056</td>\n",
       "      <td>1</td>\n",
       "      <td>-0.318415</td>\n",
       "      <td>-0.305900</td>\n",
       "      <td>1</td>\n",
       "      <td>1</td>\n",
       "      <td>-0.634044</td>\n",
       "      <td>-0.596025</td>\n",
       "      <td>1</td>\n",
       "      <td>0</td>\n",
       "      <td>0.85000</td>\n",
       "      <td>1</td>\n",
       "      <td>14</td>\n",
       "      <td>4</td>\n",
       "    </tr>\n",
       "    <tr>\n",
       "      <th>2098</th>\n",
       "      <td>51</td>\n",
       "      <td>149</td>\n",
       "      <td>1</td>\n",
       "      <td>4</td>\n",
       "      <td>0</td>\n",
       "      <td>-0.004385</td>\n",
       "      <td>0</td>\n",
       "      <td>-0.318415</td>\n",
       "      <td>-0.305900</td>\n",
       "      <td>1</td>\n",
       "      <td>0</td>\n",
       "      <td>1.352026</td>\n",
       "      <td>1.359153</td>\n",
       "      <td>0</td>\n",
       "      <td>1</td>\n",
       "      <td>0.85000</td>\n",
       "      <td>0</td>\n",
       "      <td>3</td>\n",
       "      <td>7</td>\n",
       "    </tr>\n",
       "    <tr>\n",
       "      <th>2099</th>\n",
       "      <td>26</td>\n",
       "      <td>140</td>\n",
       "      <td>13</td>\n",
       "      <td>2</td>\n",
       "      <td>1</td>\n",
       "      <td>-0.266056</td>\n",
       "      <td>0</td>\n",
       "      <td>-0.318415</td>\n",
       "      <td>-0.253195</td>\n",
       "      <td>0</td>\n",
       "      <td>1</td>\n",
       "      <td>-0.514971</td>\n",
       "      <td>-0.591077</td>\n",
       "      <td>0</td>\n",
       "      <td>0</td>\n",
       "      <td>0.50000</td>\n",
       "      <td>0</td>\n",
       "      <td>18</td>\n",
       "      <td>9</td>\n",
       "    </tr>\n",
       "    <tr>\n",
       "      <th>2100</th>\n",
       "      <td>36</td>\n",
       "      <td>29</td>\n",
       "      <td>20</td>\n",
       "      <td>2</td>\n",
       "      <td>0</td>\n",
       "      <td>-0.266056</td>\n",
       "      <td>0</td>\n",
       "      <td>-0.193544</td>\n",
       "      <td>-0.253195</td>\n",
       "      <td>0</td>\n",
       "      <td>1</td>\n",
       "      <td>-0.673369</td>\n",
       "      <td>-0.634739</td>\n",
       "      <td>0</td>\n",
       "      <td>0</td>\n",
       "      <td>0.50000</td>\n",
       "      <td>0</td>\n",
       "      <td>19</td>\n",
       "      <td>0</td>\n",
       "    </tr>\n",
       "    <tr>\n",
       "      <th>2101</th>\n",
       "      <td>23</td>\n",
       "      <td>31</td>\n",
       "      <td>1</td>\n",
       "      <td>1</td>\n",
       "      <td>1</td>\n",
       "      <td>0.082839</td>\n",
       "      <td>0</td>\n",
       "      <td>0.680552</td>\n",
       "      <td>-0.305900</td>\n",
       "      <td>1</td>\n",
       "      <td>1</td>\n",
       "      <td>-0.484135</td>\n",
       "      <td>-0.448448</td>\n",
       "      <td>0</td>\n",
       "      <td>1</td>\n",
       "      <td>1.00000</td>\n",
       "      <td>0</td>\n",
       "      <td>18</td>\n",
       "      <td>1</td>\n",
       "    </tr>\n",
       "  </tbody>\n",
       "</table>\n",
       "<p>2094 rows × 19 columns</p>\n",
       "</div>"
      ],
      "text/plain": [
       "      Zip  Bank  BankState  NAICS  Term     NoEmp  NewExist  CreateJob  \\\n",
       "0      32    11         10      1     1 -0.236982         0  -0.318415   \n",
       "1      49   142         14      2     1 -0.091609         0  -0.318415   \n",
       "2      15    11         10      4     1 -0.207907         0  -0.318415   \n",
       "3      36   147          1      2     1 -0.004385         0  -0.318415   \n",
       "4      36   140         13      1     1 -0.236982         0  -0.318415   \n",
       "...   ...   ...        ...    ...   ...       ...       ...        ...   \n",
       "2097   37   148         17      4     1 -0.266056         1  -0.318415   \n",
       "2098   51   149          1      4     0 -0.004385         0  -0.318415   \n",
       "2099   26   140         13      2     1 -0.266056         0  -0.318415   \n",
       "2100   36    29         20      2     0 -0.266056         0  -0.193544   \n",
       "2101   23    31          1      1     1  0.082839         0   0.680552   \n",
       "\n",
       "      RetainedJob  FranchiseCode  UrbanRural  DisbursementGross    GrAppv  \\\n",
       "0       -0.305900              1           2          -0.685196 -0.646382   \n",
       "1        0.063036              1           1           1.845217  1.844673   \n",
       "2       -0.147785              1           1          -0.488934 -0.430984   \n",
       "3       -0.305900              1           1           1.648000  1.679340   \n",
       "4       -0.200490              1           1           2.399318  2.395976   \n",
       "...           ...            ...         ...                ...       ...   \n",
       "2097    -0.305900              1           1          -0.634044 -0.596025   \n",
       "2098    -0.305900              1           0           1.352026  1.359153   \n",
       "2099    -0.253195              0           1          -0.514971 -0.591077   \n",
       "2100    -0.253195              0           1          -0.673369 -0.634739   \n",
       "2101    -0.305900              1           1          -0.484135 -0.448448   \n",
       "\n",
       "      New  RealEstate  Portion  Recession  AP_Year  AP_month  \n",
       "0       0           0  0.50000          0       16        11  \n",
       "1       0           1  0.75000          0       13         5  \n",
       "2       0           0  0.50000          0       16         4  \n",
       "3       0           1  0.75000          0       13         5  \n",
       "4       0           1  0.72611          0       15         3  \n",
       "...   ...         ...      ...        ...      ...       ...  \n",
       "2097    1           0  0.85000          1       14         4  \n",
       "2098    0           1  0.85000          0        3         7  \n",
       "2099    0           0  0.50000          0       18         9  \n",
       "2100    0           0  0.50000          0       19         0  \n",
       "2101    0           1  1.00000          0       18         1  \n",
       "\n",
       "[2094 rows x 19 columns]"
      ]
     },
     "execution_count": 93,
     "metadata": {},
     "output_type": "execute_result"
    }
   ],
   "source": [
    "LD_train_X"
   ]
  },
  {
   "cell_type": "code",
   "execution_count": 94,
   "metadata": {},
   "outputs": [],
   "source": [
    "xlf = XGBClassifier(max_depth=10,\n",
    "                        learning_rate=0.1,\n",
    "                        n_estimators=2000,\n",
    "                        nthread=-1,\n",
    "                        gamma=0,\n",
    "                        subsample=0.85,\n",
    "                        colsample_bytree=0.8,\n",
    "                   )\n",
    "xlf.fit(LD_train_X, LD_train_y)\n",
    "LD_pred = xlf.predict(LD_test_X)"
   ]
  },
  {
   "cell_type": "code",
   "execution_count": 95,
   "metadata": {},
   "outputs": [
    {
     "data": {
      "text/plain": [
       "array([0, 0, 0, 0, 0, 0, 0, 0], dtype=int8)"
      ]
     },
     "execution_count": 95,
     "metadata": {},
     "output_type": "execute_result"
    }
   ],
   "source": [
    "LD_pred"
   ]
  },
  {
   "cell_type": "code",
   "execution_count": 96,
   "metadata": {},
   "outputs": [],
   "source": [
    "data['LowDoc'].replace([-1],[0], inplace = True)"
   ]
  },
  {
   "cell_type": "code",
   "execution_count": null,
   "metadata": {},
   "outputs": [],
   "source": []
  },
  {
   "cell_type": "markdown",
   "metadata": {},
   "source": [
    "### RevLineCr"
   ]
  },
  {
   "cell_type": "code",
   "execution_count": 97,
   "metadata": {},
   "outputs": [
    {
     "data": {
      "text/plain": [
       "1      -1\n",
       "4      -1\n",
       "6      -1\n",
       "7      -1\n",
       "9      -1\n",
       "       ..\n",
       "2091   -1\n",
       "2094   -1\n",
       "2095   -1\n",
       "2097   -1\n",
       "2101   -1\n",
       "Name: RevLineCr, Length: 785, dtype: int8"
      ]
     },
     "execution_count": 97,
     "metadata": {},
     "output_type": "execute_result"
    }
   ],
   "source": [
    "data[data['RevLineCr'] == -1]['RevLineCr']"
   ]
  },
  {
   "cell_type": "code",
   "execution_count": 98,
   "metadata": {},
   "outputs": [],
   "source": [
    "RC_train_X = data[data['RevLineCr'] != -1].drop(['MIS_Status', \n",
    "                                                 'RevLineCr', 'CustomerId']\n",
    "                                                , axis = 1)\n",
    "RC_train_y = data[data['RevLineCr'] != -1]['RevLineCr']\n",
    "RC_test_X = data[data['RevLineCr'] == -1].drop(['MIS_Status', \n",
    "                                                'RevLineCr', 'CustomerId']\n",
    "                                                , axis = 1)"
   ]
  },
  {
   "cell_type": "code",
   "execution_count": 99,
   "metadata": {},
   "outputs": [],
   "source": [
    "xlf = XGBClassifier(max_depth=10,\n",
    "                        learning_rate=0.1,\n",
    "                        n_estimators=2000,\n",
    "                        nthread=-1,\n",
    "                        gamma=0,\n",
    "                        subsample=0.85,\n",
    "                        colsample_bytree=0.8,\n",
    "                   )\n",
    "xlf.fit(RC_train_X, RC_train_y)\n",
    "RC_pred = xlf.predict(RC_test_X)"
   ]
  },
  {
   "cell_type": "code",
   "execution_count": 100,
   "metadata": {},
   "outputs": [
    {
     "data": {
      "text/plain": [
       "785"
      ]
     },
     "execution_count": 100,
     "metadata": {},
     "output_type": "execute_result"
    }
   ],
   "source": [
    "len(RC_pred)"
   ]
  },
  {
   "cell_type": "code",
   "execution_count": 101,
   "metadata": {},
   "outputs": [
    {
     "name": "stderr",
     "output_type": "stream",
     "text": [
      "<ipython-input-101-e1a507e66f9f>:4: SettingWithCopyWarning: \n",
      "A value is trying to be set on a copy of a slice from a DataFrame\n",
      "\n",
      "See the caveats in the documentation: https://pandas.pydata.org/pandas-docs/stable/user_guide/indexing.html#returning-a-view-versus-a-copy\n",
      "  data['RevLineCr'][j] = RC_pred[i]\n"
     ]
    }
   ],
   "source": [
    "for i in range(0,785):\n",
    "    for j in range(0,2103):\n",
    "        if data['RevLineCr'][j] == -1:\n",
    "                data['RevLineCr'][j] = RC_pred[i]\n",
    "                break\n",
    "        else:\n",
    "            j = j + 1"
   ]
  },
  {
   "cell_type": "code",
   "execution_count": null,
   "metadata": {},
   "outputs": [],
   "source": []
  },
  {
   "cell_type": "markdown",
   "metadata": {},
   "source": [
    "## Split data"
   ]
  },
  {
   "cell_type": "code",
   "execution_count": 102,
   "metadata": {},
   "outputs": [],
   "source": [
    "data_train_X = data[data['MIS_Status'] != -1].drop(['MIS_Status','CustomerId'], axis = 1)\n",
    "data_train_y = data[data['MIS_Status'] != -1]['MIS_Status']\n",
    "data_test_X = data[data['MIS_Status'] == -1].drop(['MIS_Status', 'CustomerId'], axis = 1)\n"
   ]
  },
  {
   "cell_type": "code",
   "execution_count": 103,
   "metadata": {},
   "outputs": [
    {
     "name": "stdout",
     "output_type": "stream",
     "text": [
      "<class 'pandas.core.frame.DataFrame'>\n",
      "Int64Index: 1000 entries, 1102 to 2101\n",
      "Data columns (total 21 columns):\n",
      " #   Column             Non-Null Count  Dtype  \n",
      "---  ------             --------------  -----  \n",
      " 0   Zip                1000 non-null   int8   \n",
      " 1   Bank               1000 non-null   int16  \n",
      " 2   BankState          1000 non-null   int64  \n",
      " 3   NAICS              1000 non-null   int8   \n",
      " 4   Term               1000 non-null   int8   \n",
      " 5   NoEmp              1000 non-null   float64\n",
      " 6   NewExist           1000 non-null   int8   \n",
      " 7   CreateJob          1000 non-null   float64\n",
      " 8   RetainedJob        1000 non-null   float64\n",
      " 9   FranchiseCode      1000 non-null   int8   \n",
      " 10  UrbanRural         1000 non-null   int8   \n",
      " 11  RevLineCr          1000 non-null   int8   \n",
      " 12  LowDoc             1000 non-null   int64  \n",
      " 13  DisbursementGross  1000 non-null   float64\n",
      " 14  GrAppv             1000 non-null   float64\n",
      " 15  New                1000 non-null   int64  \n",
      " 16  RealEstate         1000 non-null   int64  \n",
      " 17  Portion            1000 non-null   float64\n",
      " 18  Recession          1000 non-null   int64  \n",
      " 19  AP_Year            1000 non-null   int8   \n",
      " 20  AP_month           1000 non-null   int8   \n",
      "dtypes: float64(6), int16(1), int64(5), int8(9)\n",
      "memory usage: 104.5 KB\n"
     ]
    }
   ],
   "source": [
    "data_test_X.info()"
   ]
  },
  {
   "cell_type": "code",
   "execution_count": null,
   "metadata": {},
   "outputs": [],
   "source": []
  },
  {
   "cell_type": "code",
   "execution_count": null,
   "metadata": {},
   "outputs": [],
   "source": []
  },
  {
   "cell_type": "markdown",
   "metadata": {},
   "source": [
    "# Fit Model"
   ]
  },
  {
   "cell_type": "markdown",
   "metadata": {},
   "source": [
    "## ANN"
   ]
  },
  {
   "cell_type": "code",
   "execution_count": null,
   "metadata": {},
   "outputs": [],
   "source": [
    "# from tensorflow.keras.models import Sequential\n",
    "# from tensorflow.keras.layers import Dense, Dropout\n",
    "# from tensorflow.keras.callbacks import EarlyStopping\n",
    "\n",
    "\n",
    "# early_stop = EarlyStopping(monitor = 'val_loss', mode = 'min',\n",
    "#                             verbose = 1, patience = 25)\n",
    "\n",
    "\n",
    "# model = Sequential()\n",
    "# model.add(Dense(22, activation = 'relu'))\n",
    "# model.add(Dropout(0.5)) \n",
    "\n",
    "# model.add(Dense(22, activation = 'relu'))\n",
    "# model.add(Dropout(0.5)) \n",
    "\n",
    "# model.add(Dense(22, activation = 'relu'))\n",
    "# model.add(Dropout(0.5)) \n",
    "\n",
    "# model.add(Dense(11, activation = 'relu'))\n",
    "# model.add(Dropout(0.5))\n",
    "\n",
    "# model.add(Dense(5, activation = 'relu'))\n",
    "# model.add(Dropout(0.5))\n",
    "\n",
    "# model.add(Dense(2, activation = 'relu'))\n",
    "# model.add(Dropout(0.5))\n",
    "\n",
    "# model.add(Dense(1, activation = 'sigmoid'))\n",
    "\n",
    "# model.compile(loss = 'binary_crossentropy', optimizer = 'adam')\n",
    "\n",
    "# # validation_data = (X_train, data_train_X), \n",
    "\n",
    "# model.fit(x = X_train, y = data_train_y, epochs = 500, \n",
    "#           callbacks = [early_stop])\n",
    "\n"
   ]
  },
  {
   "cell_type": "code",
   "execution_count": null,
   "metadata": {},
   "outputs": [],
   "source": []
  },
  {
   "cell_type": "markdown",
   "metadata": {},
   "source": [
    "## Xgboost"
   ]
  },
  {
   "cell_type": "code",
   "execution_count": null,
   "metadata": {},
   "outputs": [],
   "source": [
    "# xlf = XGBClassifier(max_depth=10,\n",
    "#                         learning_rate=0.1,\n",
    "#                         n_estimators=2000,\n",
    "#                         silent = True,\n",
    "#                         nthread=-1,\n",
    "#                         gamma=0,\n",
    "#                         subsample=0.85,\n",
    "#                         colsample_bytree=0.8,\n",
    "#                    )\n",
    "# xlf.fit(data_train_X, data_train_y)\n",
    "# data_pred = xlf.predict(data_test_X)"
   ]
  },
  {
   "cell_type": "code",
   "execution_count": null,
   "metadata": {},
   "outputs": [],
   "source": []
  },
  {
   "cell_type": "markdown",
   "metadata": {},
   "source": [
    "## RandomForest"
   ]
  },
  {
   "cell_type": "code",
   "execution_count": 104,
   "metadata": {},
   "outputs": [],
   "source": [
    "from sklearn.ensemble import RandomForestClassifier\n",
    "rfc = RandomForestClassifier(n_estimators = 500)\n",
    "rfc.fit(data_train_X, data_train_y)\n",
    "rfc_pred = rfc.predict(data_test_X)\n"
   ]
  },
  {
   "cell_type": "code",
   "execution_count": 105,
   "metadata": {},
   "outputs": [],
   "source": [
    "submit = pd.DataFrame(test['CustomerId'])"
   ]
  },
  {
   "cell_type": "code",
   "execution_count": 106,
   "metadata": {},
   "outputs": [],
   "source": [
    "submit['Approve'] = pd.DataFrame(rfc_pred)"
   ]
  },
  {
   "cell_type": "code",
   "execution_count": 107,
   "metadata": {},
   "outputs": [
    {
     "data": {
      "text/html": [
       "<div>\n",
       "<style scoped>\n",
       "    .dataframe tbody tr th:only-of-type {\n",
       "        vertical-align: middle;\n",
       "    }\n",
       "\n",
       "    .dataframe tbody tr th {\n",
       "        vertical-align: top;\n",
       "    }\n",
       "\n",
       "    .dataframe thead th {\n",
       "        text-align: right;\n",
       "    }\n",
       "</style>\n",
       "<table border=\"1\" class=\"dataframe\">\n",
       "  <thead>\n",
       "    <tr style=\"text-align: right;\">\n",
       "      <th></th>\n",
       "      <th>CustomerId</th>\n",
       "      <th>Approve</th>\n",
       "    </tr>\n",
       "  </thead>\n",
       "  <tbody>\n",
       "    <tr>\n",
       "      <th>0</th>\n",
       "      <td>1103</td>\n",
       "      <td>1</td>\n",
       "    </tr>\n",
       "    <tr>\n",
       "      <th>1</th>\n",
       "      <td>1104</td>\n",
       "      <td>1</td>\n",
       "    </tr>\n",
       "    <tr>\n",
       "      <th>2</th>\n",
       "      <td>1105</td>\n",
       "      <td>1</td>\n",
       "    </tr>\n",
       "    <tr>\n",
       "      <th>3</th>\n",
       "      <td>1106</td>\n",
       "      <td>1</td>\n",
       "    </tr>\n",
       "    <tr>\n",
       "      <th>4</th>\n",
       "      <td>1107</td>\n",
       "      <td>0</td>\n",
       "    </tr>\n",
       "    <tr>\n",
       "      <th>...</th>\n",
       "      <td>...</td>\n",
       "      <td>...</td>\n",
       "    </tr>\n",
       "    <tr>\n",
       "      <th>995</th>\n",
       "      <td>2098</td>\n",
       "      <td>1</td>\n",
       "    </tr>\n",
       "    <tr>\n",
       "      <th>996</th>\n",
       "      <td>2099</td>\n",
       "      <td>1</td>\n",
       "    </tr>\n",
       "    <tr>\n",
       "      <th>997</th>\n",
       "      <td>2100</td>\n",
       "      <td>1</td>\n",
       "    </tr>\n",
       "    <tr>\n",
       "      <th>998</th>\n",
       "      <td>2101</td>\n",
       "      <td>0</td>\n",
       "    </tr>\n",
       "    <tr>\n",
       "      <th>999</th>\n",
       "      <td>2102</td>\n",
       "      <td>1</td>\n",
       "    </tr>\n",
       "  </tbody>\n",
       "</table>\n",
       "<p>1000 rows × 2 columns</p>\n",
       "</div>"
      ],
      "text/plain": [
       "     CustomerId  Approve\n",
       "0          1103        1\n",
       "1          1104        1\n",
       "2          1105        1\n",
       "3          1106        1\n",
       "4          1107        0\n",
       "..          ...      ...\n",
       "995        2098        1\n",
       "996        2099        1\n",
       "997        2100        1\n",
       "998        2101        0\n",
       "999        2102        1\n",
       "\n",
       "[1000 rows x 2 columns]"
      ]
     },
     "execution_count": 107,
     "metadata": {},
     "output_type": "execute_result"
    }
   ],
   "source": [
    "submit"
   ]
  },
  {
   "cell_type": "code",
   "execution_count": 108,
   "metadata": {},
   "outputs": [],
   "source": [
    "submit.to_csv('submit.csv', index = False)"
   ]
  },
  {
   "cell_type": "code",
   "execution_count": null,
   "metadata": {},
   "outputs": [],
   "source": []
  }
 ],
 "metadata": {
  "kernelspec": {
   "display_name": "Python 3",
   "language": "python",
   "name": "python3"
  },
  "language_info": {
   "codemirror_mode": {
    "name": "ipython",
    "version": 3
   },
   "file_extension": ".py",
   "mimetype": "text/x-python",
   "name": "python",
   "nbconvert_exporter": "python",
   "pygments_lexer": "ipython3",
   "version": "3.8.3"
  }
 },
 "nbformat": 4,
 "nbformat_minor": 4
}
